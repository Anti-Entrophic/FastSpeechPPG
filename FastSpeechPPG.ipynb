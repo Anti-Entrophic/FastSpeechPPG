{
  "nbformat": 4,
  "nbformat_minor": 0,
  "metadata": {
    "colab": {
      "provenance": []
    },
    "kernelspec": {
      "name": "python3",
      "display_name": "Python 3"
    },
    "language_info": {
      "name": "python"
    }
  },
  "cells": [
    {
      "cell_type": "code",
      "source": [
        "!git clone https://github.com/ming024/FastSpeech2.git\n",
        "%cd /content/FastSpeech2\n",
        "!pip3 install -r requirements.txt\n",
        "!pip install g2p_en\n",
        "!pip install pypinyin==0.39.0\n",
        "!pip install unidecode!pip install --upgrade --no-cache-dir gdown"
      ],
      "metadata": {
        "id": "qOKa8st_ALDx"
      },
      "execution_count": null,
      "outputs": []
    },
    {
      "cell_type": "code",
      "source": [
        "!gdown \"https://drive.google.com/uc?id=1DBRkALpPd6FL9gjHMmMEdHODmkgNIIK4\""
      ],
      "metadata": {
        "colab": {
          "base_uri": "https://localhost:8080/"
        },
        "id": "yhuVKFA8NDAT",
        "outputId": "ee7ed11b-3012-4925-8c07-e07451cb7575"
      },
      "execution_count": null,
      "outputs": [
        {
          "output_type": "stream",
          "name": "stdout",
          "text": [
            "Access denied with the following error:\n",
            "\n",
            " \tCannot retrieve the public link of the file. You may need to change\n",
            "\tthe permission to 'Anyone with the link', or have had many accesses. \n",
            "\n",
            "You may still be able to access the file from the browser:\n",
            "\n",
            "\t https://drive.google.com/uc?id=1DBRkALpPd6FL9gjHMmMEdHODmkgNIIK4 \n",
            "\n"
          ]
        }
      ]
    },
    {
      "cell_type": "code",
      "source": [
        "!python3 synthesize.py --text \"大家好\" --speaker_id 1 --restore_step 600000 --mode single -p config/AISHELL3/preprocess.yaml -m config/AISHELL3/model.yaml -t config/AISHELL3/train.yaml"
      ],
      "metadata": {
        "colab": {
          "base_uri": "https://localhost:8080/"
        },
        "id": "poQqEedhAIpQ",
        "outputId": "6cef7969-cbf2-4133-9752-acf2e30f23f4"
      },
      "execution_count": null,
      "outputs": [
        {
          "output_type": "stream",
          "name": "stdout",
          "text": [
            "Traceback (most recent call last):\n",
            "  File \"/content/FastSpeech2/synthesize.py\", line 188, in <module>\n",
            "    model = get_model(args, configs, device, train=False)\n",
            "  File \"/content/FastSpeech2/utils/model.py\", line 20, in get_model\n",
            "    ckpt = torch.load(ckpt_path)\n",
            "  File \"/usr/local/lib/python3.9/dist-packages/torch/serialization.py\", line 771, in load\n",
            "    with _open_file_like(f, 'rb') as opened_file:\n",
            "  File \"/usr/local/lib/python3.9/dist-packages/torch/serialization.py\", line 270, in _open_file_like\n",
            "    return _open_file(name_or_buffer, mode)\n",
            "  File \"/usr/local/lib/python3.9/dist-packages/torch/serialization.py\", line 251, in __init__\n",
            "    super(_open_file, self).__init__(open(name, mode))\n",
            "FileNotFoundError: [Errno 2] No such file or directory: './output/ckpt/AISHELL3/600000.pth.tar'\n"
          ]
        }
      ]
    },
    {
      "cell_type": "markdown",
      "source": [
        "# Train(原版)"
      ],
      "metadata": {
        "id": "7ev_-SYBOg1t"
      }
    },
    {
      "cell_type": "markdown",
      "source": [
        "## 准备数据"
      ],
      "metadata": {
        "id": "v-uvZAt6Pu0M"
      }
    },
    {
      "cell_type": "code",
      "source": [
        "!pip install wget\n",
        "!pip install tarfile"
      ],
      "metadata": {
        "id": "u9z5om2KQA24"
      },
      "execution_count": null,
      "outputs": []
    },
    {
      "cell_type": "code",
      "source": [
        "#@title 下载 LJspeech\n",
        "# 3min\n",
        "%cd /content\n",
        "!wget --no-check-certificate -r http://data.keithito.com/data/speech/LJSpeech-1.1.tar.bz2"
      ],
      "metadata": {
        "id": "uqUELCosPK0K"
      },
      "execution_count": null,
      "outputs": []
    },
    {
      "cell_type": "code",
      "source": [
        "#@title 解压\n",
        "# 10min\n",
        "%cd /content/data.keithito.com/data/speech/\n",
        "import tarfile\n",
        "filename = \"LJSpeech-1.1.tar.bz2\"\n",
        "tf = tarfile.open(filename)\n",
        "tf.extractall('/content')"
      ],
      "metadata": {
        "colab": {
          "base_uri": "https://localhost:8080/"
        },
        "id": "o1edOjhmPzAs",
        "outputId": "4fbb0173-3fed-44f8-f968-f8dc1d3f08aa"
      },
      "execution_count": null,
      "outputs": [
        {
          "output_type": "stream",
          "name": "stdout",
          "text": [
            "/content/data.keithito.com/data/speech\n"
          ]
        }
      ]
    },
    {
      "cell_type": "markdown",
      "source": [
        "## 训练"
      ],
      "metadata": {
        "id": "VWxhLL3sP7v_"
      }
    },
    {
      "cell_type": "code",
      "source": [
        "#@title 测试日志模块\n",
        "%cd /content\n",
        "import logging\n",
        "logging.basicConfig(level=logging.DEBUG #设置日志输出格式\n",
        "      ,filename=\"/content/experiment.log\" #log日志输出的文件位置和文件名\n",
        "      ,format=\"%(asctime)s-%(levelname)s: %(message)s\" #日志输出的格式\n",
        "                      # -8表示占位符，让输出左对齐，输出长度都为8位\n",
        "      ,datefmt=\"%Y-%m-%d %H:%M:%S\"  #时间输出的格式\n",
        "      ,force=True)\n",
        "# test\n",
        "logging.debug(\"debug!\")"
      ],
      "metadata": {
        "colab": {
          "base_uri": "https://localhost:8080/"
        },
        "id": "gqPnY2pfRU6Z",
        "outputId": "ca87a4bd-5519-4a31-eb4e-126c7df1cc5d"
      },
      "execution_count": null,
      "outputs": [
        {
          "output_type": "stream",
          "name": "stdout",
          "text": [
            "/content\n"
          ]
        }
      ]
    },
    {
      "cell_type": "code",
      "source": [
        "%cd /content/FastSpeech2\n",
        "!python3 prepare_align.py config/LJSpeech/preprocess.yaml"
      ],
      "metadata": {
        "colab": {
          "base_uri": "https://localhost:8080/"
        },
        "id": "ec5FM08kOj18",
        "outputId": "f49a1d30-df81-4347-905a-e7c89403ece2"
      },
      "execution_count": 2,
      "outputs": [
        {
          "output_type": "stream",
          "name": "stdout",
          "text": [
            "/content/FastSpeech2\n",
            "640it [00:11, 55.06it/s]\n",
            "Traceback (most recent call last):\n",
            "  File \"/content/FastSpeech2/prepare_align.py\", line 24, in <module>\n",
            "    main(config)\n",
            "  File \"/content/FastSpeech2/prepare_align.py\", line 10, in main\n",
            "    ljspeech.prepare_align(config)\n",
            "  File \"/content/FastSpeech2/preprocessor/ljspeech.py\", line 42, in prepare_align\n",
            "    wav = wav / max(abs(wav)) * max_wav_value\n",
            "KeyboardInterrupt\n",
            "^C\n"
          ]
        }
      ]
    }
  ]
}
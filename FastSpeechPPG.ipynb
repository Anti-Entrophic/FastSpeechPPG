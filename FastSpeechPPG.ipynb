{
  "cells": [
    {
      "cell_type": "code",
      "execution_count": 1,
      "metadata": {
        "id": "qOKa8st_ALDx",
        "colab": {
          "base_uri": "https://localhost:8080/"
        },
        "outputId": "66eafb86-8cb1-4b10-d818-116d28f25853"
      },
      "outputs": [
        {
          "output_type": "stream",
          "name": "stdout",
          "text": [
            "Cloning into 'FastSpeechPPG'...\n",
            "remote: Enumerating objects: 271, done.\u001b[K\n",
            "remote: Counting objects: 100% (46/46), done.\u001b[K\n",
            "remote: Compressing objects: 100% (45/45), done.\u001b[K\n",
            "remote: Total 271 (delta 25), reused 1 (delta 1), pack-reused 225\u001b[K\n",
            "Receiving objects: 100% (271/271), 8.46 MiB | 14.30 MiB/s, done.\n",
            "Resolving deltas: 100% (97/97), done.\n",
            "/content/FastSpeechPPG/FastSpeech2\n"
          ]
        }
      ],
      "source": [
        "#@title 安装依赖\n",
        "!git clone https://github.com/Anti-Entrophic/FastSpeechPPG.git\n",
        "%cd /content/FastSpeechPPG/FastSpeech2"
      ]
    },
    {
      "cell_type": "code",
      "source": [
        "!pip install g2p_en\n",
        "!pip install inflect\n",
        "!pip install librosa==0.9.2 # 0.10.0 与dataloader不兼容\n",
        "!pip install matplotlib\n",
        "!pip install numba\n",
        "!pip install numpy"
      ],
      "metadata": {
        "id": "C13oroX9pYpI",
        "colab": {
          "base_uri": "https://localhost:8080/"
        },
        "outputId": "791209a0-1bbd-446a-cce1-eddfa0285df7"
      },
      "execution_count": 2,
      "outputs": [
        {
          "output_type": "stream",
          "name": "stdout",
          "text": [
            "Looking in indexes: https://pypi.org/simple, https://us-python.pkg.dev/colab-wheels/public/simple/\n",
            "Collecting g2p_en\n",
            "  Downloading g2p_en-2.1.0-py3-none-any.whl (3.1 MB)\n",
            "\u001b[2K     \u001b[90m━━━━━━━━━━━━━━━━━━━━━━━━━━━━━━━━━━━━━━━━\u001b[0m \u001b[32m3.1/3.1 MB\u001b[0m \u001b[31m33.0 MB/s\u001b[0m eta \u001b[36m0:00:00\u001b[0m\n",
            "\u001b[?25hRequirement already satisfied: numpy>=1.13.1 in /usr/local/lib/python3.9/dist-packages (from g2p_en) (1.22.4)\n",
            "Collecting distance>=0.1.3\n",
            "  Downloading Distance-0.1.3.tar.gz (180 kB)\n",
            "\u001b[2K     \u001b[90m━━━━━━━━━━━━━━━━━━━━━━━━━━━━━━━━━━━━━━\u001b[0m \u001b[32m180.3/180.3 KB\u001b[0m \u001b[31m18.2 MB/s\u001b[0m eta \u001b[36m0:00:00\u001b[0m\n",
            "\u001b[?25h  Preparing metadata (setup.py) ... \u001b[?25l\u001b[?25hdone\n",
            "Requirement already satisfied: nltk>=3.2.4 in /usr/local/lib/python3.9/dist-packages (from g2p_en) (3.8.1)\n",
            "Requirement already satisfied: inflect>=0.3.1 in /usr/local/lib/python3.9/dist-packages (from g2p_en) (6.0.2)\n",
            "Requirement already satisfied: pydantic>=1.9.1 in /usr/local/lib/python3.9/dist-packages (from inflect>=0.3.1->g2p_en) (1.10.7)\n",
            "Requirement already satisfied: tqdm in /usr/local/lib/python3.9/dist-packages (from nltk>=3.2.4->g2p_en) (4.65.0)\n",
            "Requirement already satisfied: regex>=2021.8.3 in /usr/local/lib/python3.9/dist-packages (from nltk>=3.2.4->g2p_en) (2022.10.31)\n",
            "Requirement already satisfied: joblib in /usr/local/lib/python3.9/dist-packages (from nltk>=3.2.4->g2p_en) (1.1.1)\n",
            "Requirement already satisfied: click in /usr/local/lib/python3.9/dist-packages (from nltk>=3.2.4->g2p_en) (8.1.3)\n",
            "Requirement already satisfied: typing-extensions>=4.2.0 in /usr/local/lib/python3.9/dist-packages (from pydantic>=1.9.1->inflect>=0.3.1->g2p_en) (4.5.0)\n",
            "Building wheels for collected packages: distance\n",
            "  Building wheel for distance (setup.py) ... \u001b[?25l\u001b[?25hdone\n",
            "  Created wheel for distance: filename=Distance-0.1.3-py3-none-any.whl size=16275 sha256=be8836a5bdc5bd19cb1b9a83e480fd7357093a6a87044513976eb4b53941bf23\n",
            "  Stored in directory: /root/.cache/pip/wheels/fb/b3/aa/04241cced6d1722b132273b1d6aafba317887ec004f48b853a\n",
            "Successfully built distance\n",
            "Installing collected packages: distance, g2p_en\n",
            "Successfully installed distance-0.1.3 g2p_en-2.1.0\n",
            "Looking in indexes: https://pypi.org/simple, https://us-python.pkg.dev/colab-wheels/public/simple/\n",
            "Requirement already satisfied: inflect in /usr/local/lib/python3.9/dist-packages (6.0.2)\n",
            "Requirement already satisfied: pydantic>=1.9.1 in /usr/local/lib/python3.9/dist-packages (from inflect) (1.10.7)\n",
            "Requirement already satisfied: typing-extensions>=4.2.0 in /usr/local/lib/python3.9/dist-packages (from pydantic>=1.9.1->inflect) (4.5.0)\n",
            "Looking in indexes: https://pypi.org/simple, https://us-python.pkg.dev/colab-wheels/public/simple/\n",
            "Collecting librosa==0.9.2\n",
            "  Downloading librosa-0.9.2-py3-none-any.whl (214 kB)\n",
            "\u001b[2K     \u001b[90m━━━━━━━━━━━━━━━━━━━━━━━━━━━━━━━━━━━━━━━\u001b[0m \u001b[32m214.3/214.3 KB\u001b[0m \u001b[31m6.2 MB/s\u001b[0m eta \u001b[36m0:00:00\u001b[0m\n",
            "\u001b[?25hRequirement already satisfied: decorator>=4.0.10 in /usr/local/lib/python3.9/dist-packages (from librosa==0.9.2) (4.4.2)\n",
            "Requirement already satisfied: soundfile>=0.10.2 in /usr/local/lib/python3.9/dist-packages (from librosa==0.9.2) (0.12.1)\n",
            "Requirement already satisfied: joblib>=0.14 in /usr/local/lib/python3.9/dist-packages (from librosa==0.9.2) (1.1.1)\n",
            "Requirement already satisfied: numpy>=1.17.0 in /usr/local/lib/python3.9/dist-packages (from librosa==0.9.2) (1.22.4)\n",
            "Requirement already satisfied: scikit-learn>=0.19.1 in /usr/local/lib/python3.9/dist-packages (from librosa==0.9.2) (1.2.2)\n",
            "Requirement already satisfied: numba>=0.45.1 in /usr/local/lib/python3.9/dist-packages (from librosa==0.9.2) (0.56.4)\n",
            "Requirement already satisfied: pooch>=1.0 in /usr/local/lib/python3.9/dist-packages (from librosa==0.9.2) (1.6.0)\n",
            "Requirement already satisfied: packaging>=20.0 in /usr/local/lib/python3.9/dist-packages (from librosa==0.9.2) (23.0)\n",
            "Collecting resampy>=0.2.2\n",
            "  Downloading resampy-0.4.2-py3-none-any.whl (3.1 MB)\n",
            "\u001b[2K     \u001b[90m━━━━━━━━━━━━━━━━━━━━━━━━━━━━━━━━━━━━━━━━\u001b[0m \u001b[32m3.1/3.1 MB\u001b[0m \u001b[31m49.6 MB/s\u001b[0m eta \u001b[36m0:00:00\u001b[0m\n",
            "\u001b[?25hRequirement already satisfied: audioread>=2.1.9 in /usr/local/lib/python3.9/dist-packages (from librosa==0.9.2) (3.0.0)\n",
            "Requirement already satisfied: scipy>=1.2.0 in /usr/local/lib/python3.9/dist-packages (from librosa==0.9.2) (1.10.1)\n",
            "Requirement already satisfied: llvmlite<0.40,>=0.39.0dev0 in /usr/local/lib/python3.9/dist-packages (from numba>=0.45.1->librosa==0.9.2) (0.39.1)\n",
            "Requirement already satisfied: setuptools in /usr/local/lib/python3.9/dist-packages (from numba>=0.45.1->librosa==0.9.2) (67.6.1)\n",
            "Requirement already satisfied: requests>=2.19.0 in /usr/local/lib/python3.9/dist-packages (from pooch>=1.0->librosa==0.9.2) (2.27.1)\n",
            "Requirement already satisfied: appdirs>=1.3.0 in /usr/local/lib/python3.9/dist-packages (from pooch>=1.0->librosa==0.9.2) (1.4.4)\n",
            "Requirement already satisfied: threadpoolctl>=2.0.0 in /usr/local/lib/python3.9/dist-packages (from scikit-learn>=0.19.1->librosa==0.9.2) (3.1.0)\n",
            "Requirement already satisfied: cffi>=1.0 in /usr/local/lib/python3.9/dist-packages (from soundfile>=0.10.2->librosa==0.9.2) (1.15.1)\n",
            "Requirement already satisfied: pycparser in /usr/local/lib/python3.9/dist-packages (from cffi>=1.0->soundfile>=0.10.2->librosa==0.9.2) (2.21)\n",
            "Requirement already satisfied: idna<4,>=2.5 in /usr/local/lib/python3.9/dist-packages (from requests>=2.19.0->pooch>=1.0->librosa==0.9.2) (3.4)\n",
            "Requirement already satisfied: charset-normalizer~=2.0.0 in /usr/local/lib/python3.9/dist-packages (from requests>=2.19.0->pooch>=1.0->librosa==0.9.2) (2.0.12)\n",
            "Requirement already satisfied: certifi>=2017.4.17 in /usr/local/lib/python3.9/dist-packages (from requests>=2.19.0->pooch>=1.0->librosa==0.9.2) (2022.12.7)\n",
            "Requirement already satisfied: urllib3<1.27,>=1.21.1 in /usr/local/lib/python3.9/dist-packages (from requests>=2.19.0->pooch>=1.0->librosa==0.9.2) (1.26.15)\n",
            "Installing collected packages: resampy, librosa\n",
            "  Attempting uninstall: librosa\n",
            "    Found existing installation: librosa 0.10.0.post2\n",
            "    Uninstalling librosa-0.10.0.post2:\n",
            "      Successfully uninstalled librosa-0.10.0.post2\n",
            "Successfully installed librosa-0.9.2 resampy-0.4.2\n",
            "Looking in indexes: https://pypi.org/simple, https://us-python.pkg.dev/colab-wheels/public/simple/\n",
            "Requirement already satisfied: matplotlib in /usr/local/lib/python3.9/dist-packages (3.7.1)\n",
            "Requirement already satisfied: cycler>=0.10 in /usr/local/lib/python3.9/dist-packages (from matplotlib) (0.11.0)\n",
            "Requirement already satisfied: contourpy>=1.0.1 in /usr/local/lib/python3.9/dist-packages (from matplotlib) (1.0.7)\n",
            "Requirement already satisfied: pyparsing>=2.3.1 in /usr/local/lib/python3.9/dist-packages (from matplotlib) (3.0.9)\n",
            "Requirement already satisfied: kiwisolver>=1.0.1 in /usr/local/lib/python3.9/dist-packages (from matplotlib) (1.4.4)\n",
            "Requirement already satisfied: numpy>=1.20 in /usr/local/lib/python3.9/dist-packages (from matplotlib) (1.22.4)\n",
            "Requirement already satisfied: packaging>=20.0 in /usr/local/lib/python3.9/dist-packages (from matplotlib) (23.0)\n",
            "Requirement already satisfied: fonttools>=4.22.0 in /usr/local/lib/python3.9/dist-packages (from matplotlib) (4.39.3)\n",
            "Requirement already satisfied: pillow>=6.2.0 in /usr/local/lib/python3.9/dist-packages (from matplotlib) (8.4.0)\n",
            "Requirement already satisfied: importlib-resources>=3.2.0 in /usr/local/lib/python3.9/dist-packages (from matplotlib) (5.12.0)\n",
            "Requirement already satisfied: python-dateutil>=2.7 in /usr/local/lib/python3.9/dist-packages (from matplotlib) (2.8.2)\n",
            "Requirement already satisfied: zipp>=3.1.0 in /usr/local/lib/python3.9/dist-packages (from importlib-resources>=3.2.0->matplotlib) (3.15.0)\n",
            "Requirement already satisfied: six>=1.5 in /usr/local/lib/python3.9/dist-packages (from python-dateutil>=2.7->matplotlib) (1.16.0)\n",
            "Looking in indexes: https://pypi.org/simple, https://us-python.pkg.dev/colab-wheels/public/simple/\n",
            "Requirement already satisfied: numba in /usr/local/lib/python3.9/dist-packages (0.56.4)\n",
            "Requirement already satisfied: numpy<1.24,>=1.18 in /usr/local/lib/python3.9/dist-packages (from numba) (1.22.4)\n",
            "Requirement already satisfied: setuptools in /usr/local/lib/python3.9/dist-packages (from numba) (67.6.1)\n",
            "Requirement already satisfied: llvmlite<0.40,>=0.39.0dev0 in /usr/local/lib/python3.9/dist-packages (from numba) (0.39.1)\n",
            "Looking in indexes: https://pypi.org/simple, https://us-python.pkg.dev/colab-wheels/public/simple/\n",
            "Requirement already satisfied: numpy in /usr/local/lib/python3.9/dist-packages (1.22.4)\n"
          ]
        }
      ]
    },
    {
      "cell_type": "code",
      "source": [
        "!pip install pypinyin\n",
        "!pip install pyworld\n",
        "!pip install PyYAML\n",
        "!pip install scikit-learn\n",
        "!pip install scipy"
      ],
      "metadata": {
        "id": "Wu-zoI1UpZbu",
        "colab": {
          "base_uri": "https://localhost:8080/"
        },
        "outputId": "9aecba97-8819-44e9-d8e0-c4b451dee556"
      },
      "execution_count": 3,
      "outputs": [
        {
          "output_type": "stream",
          "name": "stdout",
          "text": [
            "Looking in indexes: https://pypi.org/simple, https://us-python.pkg.dev/colab-wheels/public/simple/\n",
            "Collecting pypinyin\n",
            "  Downloading pypinyin-0.48.0-py2.py3-none-any.whl (1.4 MB)\n",
            "\u001b[2K     \u001b[90m━━━━━━━━━━━━━━━━━━━━━━━━━━━━━━━━━━━━━━━━\u001b[0m \u001b[32m1.4/1.4 MB\u001b[0m \u001b[31m20.6 MB/s\u001b[0m eta \u001b[36m0:00:00\u001b[0m\n",
            "\u001b[?25hInstalling collected packages: pypinyin\n",
            "Successfully installed pypinyin-0.48.0\n",
            "Looking in indexes: https://pypi.org/simple, https://us-python.pkg.dev/colab-wheels/public/simple/\n",
            "Collecting pyworld\n",
            "  Downloading pyworld-0.3.2.tar.gz (214 kB)\n",
            "\u001b[2K     \u001b[90m━━━━━━━━━━━━━━━━━━━━━━━━━━━━━━━━━━━━━━━\u001b[0m \u001b[32m214.4/214.4 KB\u001b[0m \u001b[31m5.8 MB/s\u001b[0m eta \u001b[36m0:00:00\u001b[0m\n",
            "\u001b[?25h  Installing build dependencies ... \u001b[?25l\u001b[?25hdone\n",
            "  Getting requirements to build wheel ... \u001b[?25l\u001b[?25hdone\n",
            "  Preparing metadata (pyproject.toml) ... \u001b[?25l\u001b[?25hdone\n",
            "Requirement already satisfied: cython in /usr/local/lib/python3.9/dist-packages (from pyworld) (0.29.33)\n",
            "Requirement already satisfied: numpy in /usr/local/lib/python3.9/dist-packages (from pyworld) (1.22.4)\n",
            "Building wheels for collected packages: pyworld\n",
            "  Building wheel for pyworld (pyproject.toml) ... \u001b[?25l\u001b[?25hdone\n",
            "  Created wheel for pyworld: filename=pyworld-0.3.2-cp39-cp39-linux_x86_64.whl size=895522 sha256=b539275aa84978992c9a06229c9a1f9426598cb5e577146cb2259d4e38f1082b\n",
            "  Stored in directory: /root/.cache/pip/wheels/c5/91/01/58aa68f1f055ce534049e668292b710500100da0262079b8f5\n",
            "Successfully built pyworld\n",
            "Installing collected packages: pyworld\n",
            "Successfully installed pyworld-0.3.2\n",
            "Looking in indexes: https://pypi.org/simple, https://us-python.pkg.dev/colab-wheels/public/simple/\n",
            "Requirement already satisfied: PyYAML in /usr/local/lib/python3.9/dist-packages (6.0)\n",
            "Looking in indexes: https://pypi.org/simple, https://us-python.pkg.dev/colab-wheels/public/simple/\n",
            "Requirement already satisfied: scikit-learn in /usr/local/lib/python3.9/dist-packages (1.2.2)\n",
            "Requirement already satisfied: scipy>=1.3.2 in /usr/local/lib/python3.9/dist-packages (from scikit-learn) (1.10.1)\n",
            "Requirement already satisfied: joblib>=1.1.1 in /usr/local/lib/python3.9/dist-packages (from scikit-learn) (1.1.1)\n",
            "Requirement already satisfied: threadpoolctl>=2.0.0 in /usr/local/lib/python3.9/dist-packages (from scikit-learn) (3.1.0)\n",
            "Requirement already satisfied: numpy>=1.17.3 in /usr/local/lib/python3.9/dist-packages (from scikit-learn) (1.22.4)\n",
            "Looking in indexes: https://pypi.org/simple, https://us-python.pkg.dev/colab-wheels/public/simple/\n",
            "Requirement already satisfied: scipy in /usr/local/lib/python3.9/dist-packages (1.10.1)\n",
            "Requirement already satisfied: numpy<1.27.0,>=1.19.5 in /usr/local/lib/python3.9/dist-packages (from scipy) (1.22.4)\n"
          ]
        }
      ]
    },
    {
      "cell_type": "code",
      "source": [
        "!pip install soundfile==0.10.3.post1\n",
        "!pip install tensorboard\n",
        "!pip install tgt\n",
        "!pip install torch\n",
        "!pip install tqdm\n",
        "!pip install unidecode\n",
        "!pip install --upgrade --no-cache-dir gdown"
      ],
      "metadata": {
        "id": "K_lRdoPlp45O",
        "colab": {
          "base_uri": "https://localhost:8080/"
        },
        "outputId": "af2b35a5-d691-4267-cbf8-10a6e5caf7ee"
      },
      "execution_count": 4,
      "outputs": [
        {
          "output_type": "stream",
          "name": "stdout",
          "text": [
            "Looking in indexes: https://pypi.org/simple, https://us-python.pkg.dev/colab-wheels/public/simple/\n",
            "Collecting soundfile==0.10.3.post1\n",
            "  Downloading SoundFile-0.10.3.post1-py2.py3-none-any.whl (21 kB)\n",
            "Requirement already satisfied: cffi>=1.0 in /usr/local/lib/python3.9/dist-packages (from soundfile==0.10.3.post1) (1.15.1)\n",
            "Requirement already satisfied: pycparser in /usr/local/lib/python3.9/dist-packages (from cffi>=1.0->soundfile==0.10.3.post1) (2.21)\n",
            "Installing collected packages: soundfile\n",
            "  Attempting uninstall: soundfile\n",
            "    Found existing installation: soundfile 0.12.1\n",
            "    Uninstalling soundfile-0.12.1:\n",
            "      Successfully uninstalled soundfile-0.12.1\n",
            "Successfully installed soundfile-0.10.3.post1\n",
            "Looking in indexes: https://pypi.org/simple, https://us-python.pkg.dev/colab-wheels/public/simple/\n",
            "Requirement already satisfied: tensorboard in /usr/local/lib/python3.9/dist-packages (2.12.0)\n",
            "Requirement already satisfied: absl-py>=0.4 in /usr/local/lib/python3.9/dist-packages (from tensorboard) (1.4.0)\n",
            "Requirement already satisfied: markdown>=2.6.8 in /usr/local/lib/python3.9/dist-packages (from tensorboard) (3.4.3)\n",
            "Requirement already satisfied: requests<3,>=2.21.0 in /usr/local/lib/python3.9/dist-packages (from tensorboard) (2.27.1)\n",
            "Requirement already satisfied: werkzeug>=1.0.1 in /usr/local/lib/python3.9/dist-packages (from tensorboard) (2.2.3)\n",
            "Requirement already satisfied: tensorboard-plugin-wit>=1.6.0 in /usr/local/lib/python3.9/dist-packages (from tensorboard) (1.8.1)\n",
            "Requirement already satisfied: google-auth-oauthlib<0.5,>=0.4.1 in /usr/local/lib/python3.9/dist-packages (from tensorboard) (0.4.6)\n",
            "Requirement already satisfied: google-auth<3,>=1.6.3 in /usr/local/lib/python3.9/dist-packages (from tensorboard) (2.17.1)\n",
            "Requirement already satisfied: tensorboard-data-server<0.8.0,>=0.7.0 in /usr/local/lib/python3.9/dist-packages (from tensorboard) (0.7.0)\n",
            "Requirement already satisfied: setuptools>=41.0.0 in /usr/local/lib/python3.9/dist-packages (from tensorboard) (67.6.1)\n",
            "Requirement already satisfied: wheel>=0.26 in /usr/local/lib/python3.9/dist-packages (from tensorboard) (0.40.0)\n",
            "Requirement already satisfied: numpy>=1.12.0 in /usr/local/lib/python3.9/dist-packages (from tensorboard) (1.22.4)\n",
            "Requirement already satisfied: grpcio>=1.48.2 in /usr/local/lib/python3.9/dist-packages (from tensorboard) (1.53.0)\n",
            "Requirement already satisfied: protobuf>=3.19.6 in /usr/local/lib/python3.9/dist-packages (from tensorboard) (3.20.3)\n",
            "Requirement already satisfied: cachetools<6.0,>=2.0.0 in /usr/local/lib/python3.9/dist-packages (from google-auth<3,>=1.6.3->tensorboard) (5.3.0)\n",
            "Requirement already satisfied: six>=1.9.0 in /usr/local/lib/python3.9/dist-packages (from google-auth<3,>=1.6.3->tensorboard) (1.16.0)\n",
            "Requirement already satisfied: rsa<5,>=3.1.4 in /usr/local/lib/python3.9/dist-packages (from google-auth<3,>=1.6.3->tensorboard) (4.9)\n",
            "Requirement already satisfied: pyasn1-modules>=0.2.1 in /usr/local/lib/python3.9/dist-packages (from google-auth<3,>=1.6.3->tensorboard) (0.2.8)\n",
            "Requirement already satisfied: requests-oauthlib>=0.7.0 in /usr/local/lib/python3.9/dist-packages (from google-auth-oauthlib<0.5,>=0.4.1->tensorboard) (1.3.1)\n",
            "Requirement already satisfied: importlib-metadata>=4.4 in /usr/local/lib/python3.9/dist-packages (from markdown>=2.6.8->tensorboard) (6.1.0)\n",
            "Requirement already satisfied: certifi>=2017.4.17 in /usr/local/lib/python3.9/dist-packages (from requests<3,>=2.21.0->tensorboard) (2022.12.7)\n",
            "Requirement already satisfied: charset-normalizer~=2.0.0 in /usr/local/lib/python3.9/dist-packages (from requests<3,>=2.21.0->tensorboard) (2.0.12)\n",
            "Requirement already satisfied: urllib3<1.27,>=1.21.1 in /usr/local/lib/python3.9/dist-packages (from requests<3,>=2.21.0->tensorboard) (1.26.15)\n",
            "Requirement already satisfied: idna<4,>=2.5 in /usr/local/lib/python3.9/dist-packages (from requests<3,>=2.21.0->tensorboard) (3.4)\n",
            "Requirement already satisfied: MarkupSafe>=2.1.1 in /usr/local/lib/python3.9/dist-packages (from werkzeug>=1.0.1->tensorboard) (2.1.2)\n",
            "Requirement already satisfied: zipp>=0.5 in /usr/local/lib/python3.9/dist-packages (from importlib-metadata>=4.4->markdown>=2.6.8->tensorboard) (3.15.0)\n",
            "Requirement already satisfied: pyasn1<0.5.0,>=0.4.6 in /usr/local/lib/python3.9/dist-packages (from pyasn1-modules>=0.2.1->google-auth<3,>=1.6.3->tensorboard) (0.4.8)\n",
            "Requirement already satisfied: oauthlib>=3.0.0 in /usr/local/lib/python3.9/dist-packages (from requests-oauthlib>=0.7.0->google-auth-oauthlib<0.5,>=0.4.1->tensorboard) (3.2.2)\n",
            "Looking in indexes: https://pypi.org/simple, https://us-python.pkg.dev/colab-wheels/public/simple/\n",
            "Collecting tgt\n",
            "  Downloading tgt-1.4.4.tar.gz (21 kB)\n",
            "  Preparing metadata (setup.py) ... \u001b[?25l\u001b[?25hdone\n",
            "Building wheels for collected packages: tgt\n",
            "  Building wheel for tgt (setup.py) ... \u001b[?25l\u001b[?25hdone\n",
            "  Created wheel for tgt: filename=tgt-1.4.4-py3-none-any.whl size=28922 sha256=2dc480518592061d0f1e1b79ed2f3d8bd34c8bacbc2d81a6b1399fc435bcb21a\n",
            "  Stored in directory: /root/.cache/pip/wheels/e0/d4/e5/039c9c6c19848fcc33223ee8da975d73b2da572d25da27bea7\n",
            "Successfully built tgt\n",
            "Installing collected packages: tgt\n",
            "Successfully installed tgt-1.4.4\n",
            "Looking in indexes: https://pypi.org/simple, https://us-python.pkg.dev/colab-wheels/public/simple/\n",
            "Requirement already satisfied: torch in /usr/local/lib/python3.9/dist-packages (2.0.0+cu118)\n",
            "Requirement already satisfied: networkx in /usr/local/lib/python3.9/dist-packages (from torch) (3.0)\n",
            "Requirement already satisfied: triton==2.0.0 in /usr/local/lib/python3.9/dist-packages (from torch) (2.0.0)\n",
            "Requirement already satisfied: jinja2 in /usr/local/lib/python3.9/dist-packages (from torch) (3.1.2)\n",
            "Requirement already satisfied: sympy in /usr/local/lib/python3.9/dist-packages (from torch) (1.11.1)\n",
            "Requirement already satisfied: filelock in /usr/local/lib/python3.9/dist-packages (from torch) (3.10.7)\n",
            "Requirement already satisfied: typing-extensions in /usr/local/lib/python3.9/dist-packages (from torch) (4.5.0)\n",
            "Requirement already satisfied: cmake in /usr/local/lib/python3.9/dist-packages (from triton==2.0.0->torch) (3.25.2)\n",
            "Requirement already satisfied: lit in /usr/local/lib/python3.9/dist-packages (from triton==2.0.0->torch) (16.0.0)\n",
            "Requirement already satisfied: MarkupSafe>=2.0 in /usr/local/lib/python3.9/dist-packages (from jinja2->torch) (2.1.2)\n",
            "Requirement already satisfied: mpmath>=0.19 in /usr/local/lib/python3.9/dist-packages (from sympy->torch) (1.3.0)\n",
            "Looking in indexes: https://pypi.org/simple, https://us-python.pkg.dev/colab-wheels/public/simple/\n",
            "Requirement already satisfied: tqdm in /usr/local/lib/python3.9/dist-packages (4.65.0)\n",
            "Looking in indexes: https://pypi.org/simple, https://us-python.pkg.dev/colab-wheels/public/simple/\n",
            "Collecting unidecode\n",
            "  Downloading Unidecode-1.3.6-py3-none-any.whl (235 kB)\n",
            "\u001b[2K     \u001b[90m━━━━━━━━━━━━━━━━━━━━━━━━━━━━━━━━━━━━━━━\u001b[0m \u001b[32m235.9/235.9 KB\u001b[0m \u001b[31m6.8 MB/s\u001b[0m eta \u001b[36m0:00:00\u001b[0m\n",
            "\u001b[?25hInstalling collected packages: unidecode\n",
            "Successfully installed unidecode-1.3.6\n",
            "Looking in indexes: https://pypi.org/simple, https://us-python.pkg.dev/colab-wheels/public/simple/\n",
            "Requirement already satisfied: gdown in /usr/local/lib/python3.9/dist-packages (4.6.6)\n",
            "Collecting gdown\n",
            "  Downloading gdown-4.7.1-py3-none-any.whl (15 kB)\n",
            "Requirement already satisfied: filelock in /usr/local/lib/python3.9/dist-packages (from gdown) (3.10.7)\n",
            "Requirement already satisfied: tqdm in /usr/local/lib/python3.9/dist-packages (from gdown) (4.65.0)\n",
            "Requirement already satisfied: six in /usr/local/lib/python3.9/dist-packages (from gdown) (1.16.0)\n",
            "Requirement already satisfied: requests[socks] in /usr/local/lib/python3.9/dist-packages (from gdown) (2.27.1)\n",
            "Requirement already satisfied: beautifulsoup4 in /usr/local/lib/python3.9/dist-packages (from gdown) (4.11.2)\n",
            "Requirement already satisfied: soupsieve>1.2 in /usr/local/lib/python3.9/dist-packages (from beautifulsoup4->gdown) (2.4)\n",
            "Requirement already satisfied: charset-normalizer~=2.0.0 in /usr/local/lib/python3.9/dist-packages (from requests[socks]->gdown) (2.0.12)\n",
            "Requirement already satisfied: idna<4,>=2.5 in /usr/local/lib/python3.9/dist-packages (from requests[socks]->gdown) (3.4)\n",
            "Requirement already satisfied: certifi>=2017.4.17 in /usr/local/lib/python3.9/dist-packages (from requests[socks]->gdown) (2022.12.7)\n",
            "Requirement already satisfied: urllib3<1.27,>=1.21.1 in /usr/local/lib/python3.9/dist-packages (from requests[socks]->gdown) (1.26.15)\n",
            "Requirement already satisfied: PySocks!=1.5.7,>=1.5.6 in /usr/local/lib/python3.9/dist-packages (from requests[socks]->gdown) (1.7.1)\n",
            "Installing collected packages: gdown\n",
            "  Attempting uninstall: gdown\n",
            "    Found existing installation: gdown 4.6.6\n",
            "    Uninstalling gdown-4.6.6:\n",
            "      Successfully uninstalled gdown-4.6.6\n",
            "Successfully installed gdown-4.7.1\n"
          ]
        }
      ]
    },
    {
      "cell_type": "markdown",
      "metadata": {
        "id": "04WRc1FTPBcf"
      },
      "source": [
        "# Infer"
      ]
    },
    {
      "cell_type": "code",
      "execution_count": null,
      "metadata": {
        "colab": {
          "base_uri": "https://localhost:8080/"
        },
        "id": "yhuVKFA8NDAT",
        "outputId": "ee7ed11b-3012-4925-8c07-e07451cb7575"
      },
      "outputs": [
        {
          "name": "stdout",
          "output_type": "stream",
          "text": [
            "Access denied with the following error:\n",
            "\n",
            " \tCannot retrieve the public link of the file. You may need to change\n",
            "\tthe permission to 'Anyone with the link', or have had many accesses. \n",
            "\n",
            "You may still be able to access the file from the browser:\n",
            "\n",
            "\t https://drive.google.com/uc?id=1DBRkALpPd6FL9gjHMmMEdHODmkgNIIK4 \n",
            "\n"
          ]
        }
      ],
      "source": [
        "#貌似不行\n",
        "!gdown \"https://drive.google.com/uc?id=1DBRkALpPd6FL9gjHMmMEdHODmkgNIIK4\""
      ]
    },
    {
      "cell_type": "code",
      "execution_count": null,
      "metadata": {
        "colab": {
          "base_uri": "https://localhost:8080/"
        },
        "id": "poQqEedhAIpQ",
        "outputId": "6cef7969-cbf2-4133-9752-acf2e30f23f4"
      },
      "outputs": [
        {
          "name": "stdout",
          "output_type": "stream",
          "text": [
            "Traceback (most recent call last):\n",
            "  File \"/content/FastSpeech2/synthesize.py\", line 188, in <module>\n",
            "    model = get_model(args, configs, device, train=False)\n",
            "  File \"/content/FastSpeech2/utils/model.py\", line 20, in get_model\n",
            "    ckpt = torch.load(ckpt_path)\n",
            "  File \"/usr/local/lib/python3.9/dist-packages/torch/serialization.py\", line 771, in load\n",
            "    with _open_file_like(f, 'rb') as opened_file:\n",
            "  File \"/usr/local/lib/python3.9/dist-packages/torch/serialization.py\", line 270, in _open_file_like\n",
            "    return _open_file(name_or_buffer, mode)\n",
            "  File \"/usr/local/lib/python3.9/dist-packages/torch/serialization.py\", line 251, in __init__\n",
            "    super(_open_file, self).__init__(open(name, mode))\n",
            "FileNotFoundError: [Errno 2] No such file or directory: './output/ckpt/AISHELL3/600000.pth.tar'\n"
          ]
        }
      ],
      "source": [
        "!python3 synthesize.py --text \"大家好\" --speaker_id 1 --restore_step 600000 --mode single -p config/AISHELL3/preprocess.yaml -m config/AISHELL3/model.yaml -t config/AISHELL3/train.yaml"
      ]
    },
    {
      "cell_type": "markdown",
      "metadata": {
        "id": "7ev_-SYBOg1t"
      },
      "source": [
        "# Train(原版)"
      ]
    },
    {
      "cell_type": "markdown",
      "metadata": {
        "id": "v-uvZAt6Pu0M"
      },
      "source": [
        "## 准备数据"
      ]
    },
    {
      "cell_type": "code",
      "execution_count": null,
      "metadata": {
        "colab": {
          "base_uri": "https://localhost:8080/"
        },
        "id": "u9z5om2KQA24",
        "outputId": "621af158-11e6-4cd3-afdd-613c4119c2a7"
      },
      "outputs": [
        {
          "output_type": "stream",
          "name": "stdout",
          "text": [
            "Looking in indexes: https://pypi.org/simple, https://us-python.pkg.dev/colab-wheels/public/simple/\n",
            "Collecting wget\n",
            "  Downloading wget-3.2.zip (10 kB)\n",
            "  Preparing metadata (setup.py) ... \u001b[?25l\u001b[?25hdone\n",
            "Building wheels for collected packages: wget\n",
            "  Building wheel for wget (setup.py) ... \u001b[?25l\u001b[?25hdone\n",
            "  Created wheel for wget: filename=wget-3.2-py3-none-any.whl size=9676 sha256=005222e2d1b8bd616564bf8b768da18d058753db7e2d5df32fe50d47516499b0\n",
            "  Stored in directory: /root/.cache/pip/wheels/04/5f/3e/46cc37c5d698415694d83f607f833f83f0149e49b3af9d0f38\n",
            "Successfully built wget\n",
            "Installing collected packages: wget\n",
            "Successfully installed wget-3.2\n",
            "Looking in indexes: https://pypi.org/simple, https://us-python.pkg.dev/colab-wheels/public/simple/\n",
            "\u001b[31mERROR: Could not find a version that satisfies the requirement tarfile (from versions: none)\u001b[0m\u001b[31m\n",
            "\u001b[0m\u001b[31mERROR: No matching distribution found for tarfile\u001b[0m\u001b[31m\n",
            "\u001b[0m"
          ]
        }
      ],
      "source": [
        "!pip install wget\n",
        "!pip install tarfile"
      ]
    },
    {
      "cell_type": "code",
      "execution_count": null,
      "metadata": {
        "colab": {
          "background_save": true
        },
        "id": "uqUELCosPK0K",
        "outputId": "e449e8cf-adb6-4154-c01a-9ac7b6bf6060"
      },
      "outputs": [
        {
          "name": "stdout",
          "output_type": "stream",
          "text": [
            "/content\n",
            "--2023-03-17 15:40:47--  http://data.keithito.com/data/speech/LJSpeech-1.1.tar.bz2\n",
            "Resolving data.keithito.com (data.keithito.com)... 174.138.79.61\n",
            "Connecting to data.keithito.com (data.keithito.com)|174.138.79.61|:80... connected.\n",
            "HTTP request sent, awaiting response... 200 OK\n",
            "Length: 2748572632 (2.6G) [application/octet-stream]\n",
            "Saving to: ‘data.keithito.com/data/speech/LJSpeech-1.1.tar.bz2’\n",
            "\n",
            "data.keithito.com/d 100%[===================>]   2.56G  12.1MB/s    in 3m 23s  \n",
            "\n",
            "2023-03-17 15:44:11 (12.9 MB/s) - ‘data.keithito.com/data/speech/LJSpeech-1.1.tar.bz2’ saved [2748572632/2748572632]\n",
            "\n",
            "FINISHED --2023-03-17 15:44:11--\n",
            "Total wall clock time: 3m 24s\n",
            "Downloaded: 1 files, 2.6G in 3m 23s (12.9 MB/s)\n"
          ]
        }
      ],
      "source": [
        "#@title 下载 LJspeech\n",
        "# 3min\n",
        "%cd /content\n",
        "!wget --no-check-certificate -r http://data.keithito.com/data/speech/LJSpeech-1.1.tar.bz2"
      ]
    },
    {
      "cell_type": "code",
      "execution_count": null,
      "metadata": {
        "id": "o1edOjhmPzAs"
      },
      "outputs": [],
      "source": [
        "#@title 解压\n",
        "# 10min\n",
        "%cd /content/data.keithito.com/data/speech/\n",
        "import tarfile\n",
        "filename = \"LJSpeech-1.1.tar.bz2\"\n",
        "tf = tarfile.open(filename)\n",
        "tf.extractall('/content')"
      ]
    },
    {
      "cell_type": "markdown",
      "metadata": {
        "id": "VWxhLL3sP7v_"
      },
      "source": [
        "## 训练"
      ]
    },
    {
      "cell_type": "code",
      "execution_count": null,
      "metadata": {
        "colab": {
          "base_uri": "https://localhost:8080/"
        },
        "id": "gqPnY2pfRU6Z",
        "outputId": "ca87a4bd-5519-4a31-eb4e-126c7df1cc5d"
      },
      "outputs": [
        {
          "name": "stdout",
          "output_type": "stream",
          "text": [
            "/content\n"
          ]
        }
      ],
      "source": [
        "#@title 测试日志模块（不用再跑了）\n",
        "%cd /content\n",
        "import logging\n",
        "logging.basicConfig(level=logging.DEBUG #设置日志输出格式\n",
        "      ,filename=\"/content/experiment.log\" #log日志输出的文件位置和文件名\n",
        "      ,format=\"%(asctime)s-%(levelname)s: %(message)s\" #日志输出的格式\n",
        "                      # -8表示占位符，让输出左对齐，输出长度都为8位\n",
        "      ,datefmt=\"%Y-%m-%d %H:%M:%S\"  #时间输出的格式\n",
        "      ,force=True)\n",
        "# test\n",
        "logging.debug(\"debug!\")\n",
        "\n",
        "# 这样用就可以了\n",
        "from debugging import logging_init\n",
        "import logging"
      ]
    },
    {
      "cell_type": "code",
      "execution_count": null,
      "metadata": {
        "colab": {
          "base_uri": "https://localhost:8080/"
        },
        "id": "ec5FM08kOj18",
        "outputId": "8cebbfa6-c8df-4d1f-8de6-0d3c7564c4e1"
      },
      "outputs": [
        {
          "name": "stdout",
          "output_type": "stream",
          "text": [
            "/content/FastSpeechPPG/FastSpeech2\n",
            "13100it [03:33, 61.28it/s]\n"
          ]
        }
      ],
      "source": [
        "#@title 预处理，好像是去除文字的大小写和特殊符号。还有对音频处理了一下，看不懂。\n",
        "# 4min\n",
        "%cd /content/FastSpeechPPG/FastSpeech2\n",
        "!python3 prepare_align.py config/LJSpeech/preprocess.yaml"
      ]
    },
    {
      "cell_type": "markdown",
      "metadata": {
        "id": "IR8gWtNMbA-p"
      },
      "source": [
        "上传 `LJSpeech.zip` 到路径 `FastSpeech2/preprocessed_data/LJSpeech/TextGrid/` 下，并解压"
      ]
    },
    {
      "cell_type": "code",
      "execution_count": null,
      "metadata": {
        "colab": {
          "base_uri": "https://localhost:8080/"
        },
        "id": "u61DgBhkbQ60",
        "outputId": "53cf8878-e945-401f-ddcd-1a9a544f6246"
      },
      "outputs": [
        {
          "name": "stdout",
          "output_type": "stream",
          "text": [
            "False\n",
            "/content/FastSpeechPPG/FastSpeech2/preprocessed_data/LJSpeech\n"
          ]
        }
      ],
      "source": [
        "# 解压\n",
        "%cd /content/FastSpeechPPG/FastSpeech2/preprocessed_data/LJSpeech\n",
        "import zipfile\n",
        "import os\n",
        "assert os.path.exists('./LJSpeech.zip')\n",
        "zip_file = zipfile.ZipFile('./LJSpeech.zip')\n",
        "zip_file.extractall()"
      ]
    },
    {
      "cell_type": "code",
      "execution_count": null,
      "metadata": {
        "colab": {
          "base_uri": "https://localhost:8080/"
        },
        "id": "4BQyszJARpbZ",
        "outputId": "c7b324c7-36f6-4e15-c59a-5bac85fc8b70"
      },
      "outputs": [
        {
          "output_type": "stream",
          "name": "stdout",
          "text": [
            "/content/FastSpeechPPG/FastSpeech2\n",
            "/content/FastSpeechPPG/FastSpeech2/audio/stft.py:42: FutureWarning: Pass size=1024 as keyword args. From version 0.10 passing these as positional arguments will result in an error\n",
            "  fft_window = pad_center(fft_window, filter_length)\n",
            "/content/FastSpeechPPG/FastSpeech2/audio/stft.py:145: FutureWarning: Pass sr=22050, n_fft=1024, n_mels=80, fmin=0, fmax=8000 as keyword args. From version 0.10 passing these as positional arguments will result in an error\n",
            "  mel_basis = librosa_mel_fn(\n",
            "Processing Data ...\n",
            "Traceback (most recent call last):\n",
            "  File \"/content/FastSpeechPPG/FastSpeech2/preprocess.py\", line 15, in <module>\n",
            "    preprocessor.build_from_path()\n",
            "  File \"/content/FastSpeechPPG/FastSpeech2/preprocessor/preprocessor.py\", line 67, in build_from_path\n",
            "    for i, speaker in enumerate(tqdm(os.listdir(self.in_dir))):\n",
            "FileNotFoundError: [Errno 2] No such file or directory: './raw_data/LJSpeech'\n"
          ]
        }
      ],
      "source": [
        "%cd /content/FastSpeechPPG/FastSpeech2\n",
        "!python3 preprocess.py config/LJSpeech/preprocess.yaml"
      ]
    },
    {
      "cell_type": "markdown",
      "source": [
        "# Train（我们用这个）"
      ],
      "metadata": {
        "id": "SsNPqHMi2ttb"
      }
    },
    {
      "cell_type": "code",
      "source": [
        "#@title 下载 librispeech\n",
        "%cd /content\n",
        "!wget --no-check-certificate -r https://us.openslr.org/resources/12/train-clean-100.tar.gz"
      ],
      "metadata": {
        "colab": {
          "base_uri": "https://localhost:8080/"
        },
        "id": "PPCfg-mP24Lm",
        "outputId": "ac0bb08a-619d-4de4-9e03-0f45c9c7589f"
      },
      "execution_count": 5,
      "outputs": [
        {
          "output_type": "stream",
          "name": "stdout",
          "text": [
            "/content\n",
            "--2023-04-05 05:55:18--  https://us.openslr.org/resources/12/train-clean-100.tar.gz\n",
            "Resolving us.openslr.org (us.openslr.org)... 46.101.158.64\n",
            "Connecting to us.openslr.org (us.openslr.org)|46.101.158.64|:443... connected.\n",
            "HTTP request sent, awaiting response... 200 OK\n",
            "Length: 6387309499 (5.9G) [application/x-gzip]\n",
            "Saving to: ‘us.openslr.org/resources/12/train-clean-100.tar.gz’\n",
            "\n",
            "us.openslr.org/reso 100%[===================>]   5.95G  25.9MB/s    in 4m 0s   \n",
            "\n",
            "2023-04-05 05:59:18 (25.4 MB/s) - ‘us.openslr.org/resources/12/train-clean-100.tar.gz’ saved [6387309499/6387309499]\n",
            "\n",
            "FINISHED --2023-04-05 05:59:18--\n",
            "Total wall clock time: 4m 0s\n",
            "Downloaded: 1 files, 5.9G in 4m 0s (25.4 MB/s)\n"
          ]
        }
      ]
    },
    {
      "cell_type": "code",
      "source": [
        "#@title 解压 librispeech\n",
        "%cd /content/us.openslr.org/resources/12\n",
        "import tarfile\n",
        "filename = \"train-clean-100.tar.gz\"\n",
        "tf = tarfile.open(filename)\n",
        "tf.extractall('/content')"
      ],
      "metadata": {
        "colab": {
          "base_uri": "https://localhost:8080/"
        },
        "id": "PG89sUuW26gF",
        "outputId": "c73eaf00-2bd2-40fb-fe1f-3ac0d0d28d1c"
      },
      "execution_count": 6,
      "outputs": [
        {
          "output_type": "stream",
          "name": "stdout",
          "text": [
            "/content/us.openslr.org/resources/12\n"
          ]
        }
      ]
    },
    {
      "cell_type": "code",
      "source": [
        "#@title 调整格式、采样率\n",
        "!pip install ffmpeg\n",
        "!pip install soundfile"
      ],
      "metadata": {
        "id": "rDST57neGgQw",
        "colab": {
          "base_uri": "https://localhost:8080/"
        },
        "outputId": "58072e99-e2a5-47a8-b656-72a665b0c258"
      },
      "execution_count": 7,
      "outputs": [
        {
          "output_type": "stream",
          "name": "stdout",
          "text": [
            "Looking in indexes: https://pypi.org/simple, https://us-python.pkg.dev/colab-wheels/public/simple/\n",
            "Collecting ffmpeg\n",
            "  Downloading ffmpeg-1.4.tar.gz (5.1 kB)\n",
            "  Preparing metadata (setup.py) ... \u001b[?25l\u001b[?25hdone\n",
            "Building wheels for collected packages: ffmpeg\n",
            "  Building wheel for ffmpeg (setup.py) ... \u001b[?25l\u001b[?25hdone\n",
            "  Created wheel for ffmpeg: filename=ffmpeg-1.4-py3-none-any.whl size=6083 sha256=998351a93a4476e6316bbb24bb75de276b880ee3446586f2bc2eb4473cd43dcb\n",
            "  Stored in directory: /root/.cache/pip/wheels/1d/57/24/4eff6a03a9ea0e647568e8a5a0546cdf957e3cf005372c0245\n",
            "Successfully built ffmpeg\n",
            "Installing collected packages: ffmpeg\n",
            "Successfully installed ffmpeg-1.4\n",
            "Looking in indexes: https://pypi.org/simple, https://us-python.pkg.dev/colab-wheels/public/simple/\n",
            "Requirement already satisfied: soundfile in /usr/local/lib/python3.9/dist-packages (0.10.3.post1)\n",
            "Requirement already satisfied: cffi>=1.0 in /usr/local/lib/python3.9/dist-packages (from soundfile) (1.15.1)\n",
            "Requirement already satisfied: pycparser in /usr/local/lib/python3.9/dist-packages (from cffi>=1.0->soundfile) (2.21)\n"
          ]
        }
      ]
    },
    {
      "cell_type": "code",
      "source": [
        "import librosa\n",
        "import soundfile\n",
        "import glob\n",
        "import os\n",
        "\n",
        "src = os.path.join('/content/LibriSpeech/train-clean-100/8629/261139/', '*.flac')\n",
        "dst = os.path.join('/content/LibriSpeech/train-clean-100/8629/261139/', '*.wav')\n",
        "filelist = glob.glob(r'/content/LibriSpeech/train-clean-100/8629/261139/*.flac')\n",
        "for file in filelist:\n",
        "  src = os.path.join('/content/LibriSpeech/train-clean-100/8629/261139/', file)\n",
        "  y,sr = librosa.load(src, sr=16000)\n",
        "  name = os.path.splitext(file)[0] + '.wav'\n",
        "  dst = os.path.join('/content/LibriSpeech/train-clean-100/8629/261139/', name)\n",
        "  soundfile.write(dst,y,sr)"
      ],
      "metadata": {
        "id": "hSnzuhPmFnj9"
      },
      "execution_count": 8,
      "outputs": []
    },
    {
      "cell_type": "code",
      "source": [
        "#@title Train\n",
        "%cd /content/FastSpeechPPG/FastSpeech2\n",
        "!python3 train.py -p config/LJSpeech/preprocess.yaml -m config/LJSpeech/model.yaml -t config/LJSpeech/train.yaml"
      ],
      "metadata": {
        "colab": {
          "base_uri": "https://localhost:8080/"
        },
        "id": "CVGDKiw2--DY",
        "outputId": "b7ca4595-c414-4544-a477-4c1db5472424"
      },
      "execution_count": 35,
      "outputs": [
        {
          "output_type": "stream",
          "name": "stdout",
          "text": [
            "/content/FastSpeechPPG/FastSpeech2\n",
            "2023-04-05 06:36:51.772005: I tensorflow/core/platform/cpu_feature_guard.cc:182] This TensorFlow binary is optimized to use available CPU instructions in performance-critical operations.\n",
            "To enable the following instructions: AVX2 FMA, in other operations, rebuild TensorFlow with the appropriate compiler flags.\n",
            "2023-04-05 06:36:52.632231: W tensorflow/compiler/tf2tensorrt/utils/py_utils.cc:38] TF-TRT Warning: Could not find TensorRT\n",
            "Prepare training ...\n",
            "/content/FastSpeechPPG/FastSpeech2/stft.py:67: FutureWarning: Pass size=1024 as keyword args. From version 0.10 passing these as positional arguments will result in an error\n",
            "  fft_window = pad_center(fft_window, filter_length)\n",
            "/content/FastSpeechPPG/FastSpeech2/layers.py:50: FutureWarning: Pass sr=16000, n_fft=1024, n_mels=80, fmin=0.0, fmax=8000.0 as keyword args. From version 0.10 passing these as positional arguments will result in an error\n",
            "  mel_basis = librosa_mel_fn(\n",
            "Number of FastSpeech2 Parameters: 22689113\n",
            "Removing weight norm...\n",
            "Training:   0% 0/900000 [00:00<?, ?it/s]\n",
            "Training:   0% 2/900000 [00:01<205:29:43,  1.22it/s]\n",
            "Training:   0% 3/900000 [00:01<135:25:57,  1.85it/s]\n",
            "Training:   0% 4/900000 [00:01<101:25:47,  2.46it/s]\n",
            "Training:   0% 5/900000 [00:02<79:38:22,  3.14it/s] \n",
            "Training:   0% 6/900000 [00:02<66:03:46,  3.78it/s]\n",
            "Training:   0% 7/900000 [00:02<55:46:38,  4.48it/s]\n",
            "Training:   0% 8/900000 [00:02<48:20:13,  5.17it/s]\n",
            "Training:   0% 10/900000 [00:02<37:17:03,  6.71it/s]\n",
            "Training:   0% 11/900000 [00:02<34:44:33,  7.20it/s]\n",
            "Training:   0% 12/900000 [00:03<35:11:22,  7.10it/s]\n",
            "Training:   0% 13/900000 [00:03<34:57:54,  7.15it/s]\n",
            "Training:   0% 14/900000 [00:03<34:29:06,  7.25it/s]\n",
            "Training:   0% 15/900000 [00:03<33:53:04,  7.38it/s]\n",
            "Training:   0% 16/900000 [00:03<33:51:24,  7.38it/s]\n",
            "Training:   0% 17/900000 [00:03<33:20:08,  7.50it/s]\n",
            "Training:   0% 18/900000 [00:03<32:54:01,  7.60it/s]\n",
            "Training:   0% 20/900000 [00:03<28:20:25,  8.82it/s]\n",
            "Training:   0% 21/900000 [00:04<30:33:44,  8.18it/s]\n",
            "Training:   0% 22/900000 [00:04<30:19:22,  8.24it/s]\n",
            "Training:   0% 23/900000 [00:04<32:02:05,  7.80it/s]\n",
            "Training:   0% 24/900000 [00:04<30:29:39,  8.20it/s]\n",
            "Training:   0% 25/900000 [00:04<31:53:04,  7.84it/s]\n",
            "Training:   0% 27/900000 [00:04<29:15:26,  8.54it/s]\n",
            "Training:   0% 28/900000 [00:04<28:36:30,  8.74it/s]\n",
            "Training:   0% 29/900000 [00:05<29:14:17,  8.55it/s]\n",
            "Training:   0% 30/900000 [00:05<30:34:36,  8.18it/s]\n",
            "Training:   0% 31/900000 [00:05<31:41:19,  7.89it/s]\n",
            "Training:   0% 33/900000 [00:05<30:42:13,  8.14it/s]\n",
            "Training:   0% 35/900000 [00:05<27:23:01,  9.13it/s]\n",
            "Training:   0% 36/900000 [00:05<28:49:32,  8.67it/s]\n",
            "Training:   0% 37/900000 [00:06<28:33:23,  8.75it/s]\n",
            "Training:   0% 38/900000 [00:06<31:29:18,  7.94it/s]\n",
            "Training:   0% 39/900000 [00:06<33:28:59,  7.47it/s]\n",
            "Training:   0% 40/900000 [00:06<34:52:43,  7.17it/s]\n",
            "Training:   0% 41/900000 [00:06<37:09:37,  6.73it/s]\n",
            "Training:   0% 42/900000 [00:06<41:29:13,  6.03it/s]\n",
            "Training:   0% 43/900000 [00:07<44:06:34,  5.67it/s]\n",
            "Training:   0% 44/900000 [00:07<45:12:27,  5.53it/s]\n",
            "Training:   0% 45/900000 [00:07<45:57:53,  5.44it/s]\n",
            "Training:   0% 46/900000 [00:07<40:53:43,  6.11it/s]\n",
            "Training:   0% 47/900000 [00:07<43:35:42,  5.73it/s]\n",
            "Training:   0% 48/900000 [00:07<41:46:26,  5.98it/s]\n",
            "Training:   0% 49/900000 [00:08<40:57:24,  6.10it/s]\n",
            "Training:   0% 50/900000 [00:08<44:16:34,  5.65it/s]\n",
            "Training:   0% 51/900000 [00:08<45:33:26,  5.49it/s]\n",
            "Training:   0% 52/900000 [00:08<43:34:19,  5.74it/s]\n",
            "Training:   0% 54/900000 [00:08<36:43:47,  6.81it/s]\n",
            "Training:   0% 55/900000 [00:09<37:11:58,  6.72it/s]\n",
            "Training:   0% 56/900000 [00:09<36:42:37,  6.81it/s]\n",
            "Training:   0% 57/900000 [00:09<37:12:14,  6.72it/s]\n",
            "Training:   0% 58/900000 [00:09<34:56:54,  7.15it/s]\n",
            "Training:   0% 59/900000 [00:09<34:47:00,  7.19it/s]\n",
            "Training:   0% 60/900000 [00:09<35:29:47,  7.04it/s]\n",
            "Training:   0% 61/900000 [00:09<34:53:35,  7.16it/s]\n",
            "Training:   0% 62/900000 [00:09<33:02:35,  7.57it/s]\n",
            "Training:   0% 63/900000 [00:10<32:33:07,  7.68it/s]\n",
            "Training:   0% 64/900000 [00:10<33:08:21,  7.54it/s]\n",
            "Training:   0% 65/900000 [00:10<33:43:05,  7.41it/s]\n",
            "Training:   0% 66/900000 [00:10<36:09:04,  6.91it/s]\n",
            "Training:   0% 67/900000 [00:10<33:58:28,  7.36it/s]\n",
            "Training:   0% 68/900000 [00:10<34:34:43,  7.23it/s]\n",
            "Training:   0% 69/900000 [00:10<35:54:15,  6.96it/s]\n",
            "Training:   0% 70/900000 [00:11<35:39:30,  7.01it/s]\n",
            "Training:   0% 71/900000 [00:11<34:08:14,  7.32it/s]\n",
            "Training:   0% 72/900000 [00:11<32:12:40,  7.76it/s]\n",
            "Training:   0% 73/900000 [00:11<32:33:46,  7.68it/s]\n",
            "Training:   0% 74/900000 [00:11<33:26:02,  7.48it/s]\n",
            "Training:   0% 75/900000 [00:11<34:01:35,  7.35it/s]\n",
            "Training:   0% 76/900000 [00:11<32:22:05,  7.72it/s]\n",
            "Training:   0% 77/900000 [00:11<32:35:14,  7.67it/s]\n",
            "Training:   0% 78/900000 [00:12<33:20:45,  7.50it/s]\n",
            "Epoch 1: 100% 77/77 [00:12<00:00,  7.50it/s]\u001b[A\n",
            "Epoch 1: 100% 77/77 [00:12<00:00,  6.35it/s]\n",
            "Training:   0% 79/900000 [00:12<33:00:41,  7.57it/s]\n",
            "Training:   0% 80/900000 [00:12<30:57:23,  8.08it/s]\n",
            "Training:   0% 81/900000 [00:12<29:51:28,  8.37it/s]\n",
            "Training:   0% 82/900000 [00:12<30:18:29,  8.25it/s]\n",
            "Training:   0% 83/900000 [00:12<30:34:14,  8.18it/s]\n",
            "Training:   0% 84/900000 [00:12<32:34:42,  7.67it/s]\n",
            "Training:   0% 85/900000 [00:12<32:49:24,  7.62it/s]\n",
            "Training:   0% 87/900000 [00:13<29:43:56,  8.41it/s]\n",
            "Training:   0% 88/900000 [00:13<30:59:21,  8.07it/s]\n",
            "Training:   0% 89/900000 [00:13<30:49:35,  8.11it/s]\n",
            "Training:   0% 90/900000 [00:13<30:50:27,  8.11it/s]\n",
            "Training:   0% 92/900000 [00:13<27:58:33,  8.94it/s]\n",
            "Training:   0% 93/900000 [00:13<27:26:13,  9.11it/s]\n",
            "Training:   0% 94/900000 [00:14<28:42:05,  8.71it/s]\n",
            "Training:   0% 95/900000 [00:14<29:03:28,  8.60it/s]\n",
            "Training:   0% 96/900000 [00:14<29:35:25,  8.45it/s]\n",
            "Training:   0% 97/900000 [00:14<29:51:20,  8.37it/s]\n",
            "Training:   0% 98/900000 [00:14<30:50:12,  8.11it/s]\n",
            "Training:   0% 99/900000 [00:14<30:49:39,  8.11it/s]\n",
            "                                                    \n",
            "\u001b[AStep 100/900000, Total Loss: 11.3878, Mel Loss: 5.6766, Mel PostNet Loss: 5.7112\n",
            "Training:   0% 100/900000 [00:14<30:49:39,  8.11it/s]\n",
            "Training:   0% 101/900000 [00:14<28:01:05,  8.92it/s]\n",
            "Training:   0% 102/900000 [00:14<28:26:04,  8.79it/s]\n",
            "Training:   0% 104/900000 [00:15<26:06:50,  9.57it/s]\n",
            "Training:   0% 105/900000 [00:15<27:22:38,  9.13it/s]\n",
            "Training:   0% 107/900000 [00:15<24:42:45, 10.12it/s]\n",
            "Training:   0% 108/900000 [00:15<26:16:20,  9.51it/s]\n",
            "Training:   0% 109/900000 [00:15<27:24:55,  9.12it/s]\n",
            "Training:   0% 111/900000 [00:15<26:49:01,  9.32it/s]\n",
            "Training:   0% 112/900000 [00:15<26:46:52,  9.33it/s]\n",
            "Training:   0% 113/900000 [00:16<26:27:27,  9.45it/s]\n",
            "Training:   0% 114/900000 [00:16<27:35:32,  9.06it/s]\n",
            "Training:   0% 115/900000 [00:16<27:40:44,  9.03it/s]\n",
            "Training:   0% 116/900000 [00:16<27:31:58,  9.08it/s]\n",
            "Training:   0% 117/900000 [00:16<27:46:26,  9.00it/s]\n",
            "Training:   0% 118/900000 [00:16<28:39:25,  8.72it/s]\n",
            "Training:   0% 120/900000 [00:16<28:09:08,  8.88it/s]\n",
            "Training:   0% 121/900000 [00:17<28:15:22,  8.85it/s]\n",
            "Training:   0% 122/900000 [00:17<30:15:29,  8.26it/s]\n",
            "Training:   0% 124/900000 [00:17<26:42:20,  9.36it/s]\n",
            "Training:   0% 125/900000 [00:17<27:11:37,  9.19it/s]\n",
            "Training:   0% 126/900000 [00:17<27:46:49,  9.00it/s]\n",
            "Training:   0% 127/900000 [00:17<29:47:24,  8.39it/s]\n",
            "Training:   0% 129/900000 [00:17<29:52:49,  8.37it/s]\n",
            "Training:   0% 130/900000 [00:18<30:23:07,  8.23it/s]\n",
            "Training:   0% 131/900000 [00:18<29:23:12,  8.51it/s]\n",
            "Training:   0% 132/900000 [00:18<29:32:03,  8.46it/s]\n",
            "Training:   0% 133/900000 [00:18<30:12:25,  8.27it/s]\n",
            "Training:   0% 134/900000 [00:18<30:23:33,  8.22it/s]\n",
            "Training:   0% 135/900000 [00:18<34:14:34,  7.30it/s]\n",
            "Training:   0% 136/900000 [00:18<37:36:14,  6.65it/s]\n",
            "Training:   0% 137/900000 [00:19<34:20:20,  7.28it/s]\n",
            "Training:   0% 138/900000 [00:19<37:27:05,  6.67it/s]\n",
            "Training:   0% 139/900000 [00:19<40:04:30,  6.24it/s]\n",
            "Training:   0% 140/900000 [00:19<40:48:35,  6.13it/s]\n",
            "Training:   0% 141/900000 [00:19<41:22:48,  6.04it/s]\n",
            "Training:   0% 142/900000 [00:19<41:44:02,  5.99it/s]\n",
            "Training:   0% 143/900000 [00:20<40:29:52,  6.17it/s]\n",
            "Training:   0% 144/900000 [00:20<38:10:36,  6.55it/s]\n",
            "Training:   0% 145/900000 [00:20<39:08:39,  6.39it/s]\n",
            "Training:   0% 146/900000 [00:20<41:20:16,  6.05it/s]\n",
            "Training:   0% 147/900000 [00:20<42:25:24,  5.89it/s]\n",
            "Training:   0% 148/900000 [00:20<40:13:28,  6.21it/s]\n",
            "Training:   0% 149/900000 [00:21<39:55:49,  6.26it/s]\n",
            "Training:   0% 150/900000 [00:21<43:22:39,  5.76it/s]\n",
            "Training:   0% 151/900000 [00:21<39:37:26,  6.31it/s]\n",
            "Training:   0% 153/900000 [00:21<32:39:22,  7.65it/s]\n",
            "Training:   0% 154/900000 [00:21<33:06:21,  7.55it/s]\n",
            "Training:   0% 155/900000 [00:21<32:01:34,  7.80it/s]\n",
            "Epoch 2: 100% 77/77 [00:09<00:00,  7.80it/s]\u001b[A\n",
            "Epoch 2: 100% 77/77 [00:09<00:00,  7.97it/s]\n",
            "Training:   0% 156/900000 [00:21<32:39:50,  7.65it/s]\n",
            "Training:   0% 157/900000 [00:22<32:43:26,  7.64it/s]\n",
            "Training:   0% 158/900000 [00:22<30:58:32,  8.07it/s]\n",
            "Training:   0% 160/900000 [00:22<27:03:45,  9.24it/s]\n",
            "Training:   0% 161/900000 [00:22<26:36:19,  9.39it/s]\n",
            "Training:   0% 162/900000 [00:22<27:01:17,  9.25it/s]\n",
            "Training:   0% 163/900000 [00:22<28:03:14,  8.91it/s]\n",
            "Training:   0% 164/900000 [00:22<28:28:52,  8.78it/s]\n",
            "Training:   0% 165/900000 [00:22<29:52:14,  8.37it/s]\n",
            "Training:   0% 166/900000 [00:23<31:23:57,  7.96it/s]\n",
            "Training:   0% 167/900000 [00:23<31:12:46,  8.01it/s]\n",
            "Training:   0% 168/900000 [00:23<31:03:51,  8.05it/s]\n",
            "Training:   0% 169/900000 [00:23<30:04:43,  8.31it/s]\n",
            "Training:   0% 170/900000 [00:23<29:31:32,  8.47it/s]\n",
            "Training:   0% 171/900000 [00:23<29:21:02,  8.52it/s]\n",
            "Training:   0% 173/900000 [00:23<26:35:08,  9.40it/s]\n",
            "Training:   0% 175/900000 [00:24<25:57:28,  9.63it/s]\n",
            "Training:   0% 176/900000 [00:24<27:30:18,  9.09it/s]\n",
            "Training:   0% 177/900000 [00:24<28:25:40,  8.79it/s]\n",
            "Training:   0% 178/900000 [00:24<28:02:57,  8.91it/s]\n",
            "Training:   0% 179/900000 [00:24<29:29:32,  8.48it/s]\n",
            "Training:   0% 180/900000 [00:24<29:13:57,  8.55it/s]\n",
            "Training:   0% 181/900000 [00:24<29:08:42,  8.58it/s]\n",
            "Training:   0% 182/900000 [00:24<31:00:43,  8.06it/s]\n",
            "Training:   0% 184/900000 [00:25<28:19:51,  8.82it/s]\n",
            "Training:   0% 185/900000 [00:25<28:26:40,  8.79it/s]\n",
            "Training:   0% 186/900000 [00:25<28:21:37,  8.81it/s]\n",
            "Training:   0% 187/900000 [00:25<28:58:51,  8.62it/s]\n",
            "Training:   0% 188/900000 [00:25<28:07:20,  8.89it/s]\n",
            "Training:   0% 190/900000 [00:25<28:14:59,  8.85it/s]\n",
            "Training:   0% 192/900000 [00:25<26:01:21,  9.60it/s]\n",
            "Training:   0% 193/900000 [00:26<26:24:19,  9.47it/s]\n",
            "Training:   0% 195/900000 [00:26<26:15:47,  9.52it/s]\n",
            "Training:   0% 196/900000 [00:26<27:14:14,  9.18it/s]\n",
            "Training:   0% 197/900000 [00:26<27:49:35,  8.98it/s]\n",
            "Training:   0% 198/900000 [00:26<28:15:50,  8.84it/s]\n",
            "Training:   0% 199/900000 [00:26<29:53:11,  8.36it/s]\n",
            "                                                     \n",
            "\u001b[AStep 200/900000, Total Loss: 9.7826, Mel Loss: 4.8660, Mel PostNet Loss: 4.9165\n",
            "Training:   0% 200/900000 [00:27<29:53:11,  8.36it/s]\n",
            "Training:   0% 201/900000 [00:27<29:17:58,  8.53it/s]\n",
            "Training:   0% 202/900000 [00:27<29:15:38,  8.54it/s]\n",
            "Training:   0% 203/900000 [00:27<28:26:18,  8.79it/s]\n",
            "Training:   0% 204/900000 [00:27<29:18:02,  8.53it/s]\n",
            "Training:   0% 205/900000 [00:27<30:28:35,  8.20it/s]\n",
            "Training:   0% 207/900000 [00:27<29:18:23,  8.53it/s]\n",
            "Training:   0% 208/900000 [00:27<30:27:55,  8.20it/s]\n",
            "Training:   0% 209/900000 [00:27<29:56:18,  8.35it/s]\n",
            "Training:   0% 210/900000 [00:28<28:41:15,  8.71it/s]\n",
            "Training:   0% 211/900000 [00:28<29:51:05,  8.37it/s]\n",
            "Training:   0% 212/900000 [00:28<30:18:05,  8.25it/s]\n",
            "Training:   0% 213/900000 [00:28<29:49:14,  8.38it/s]\n",
            "Training:   0% 215/900000 [00:28<28:55:07,  8.64it/s]\n",
            "Training:   0% 216/900000 [00:28<29:30:40,  8.47it/s]\n",
            "Training:   0% 217/900000 [00:28<30:38:55,  8.15it/s]\n",
            "Training:   0% 219/900000 [00:29<29:32:07,  8.46it/s]\n",
            "Training:   0% 220/900000 [00:29<29:55:07,  8.35it/s]\n",
            "Training:   0% 221/900000 [00:29<28:54:24,  8.65it/s]\n",
            "Training:   0% 222/900000 [00:29<29:43:25,  8.41it/s]\n",
            "Training:   0% 223/900000 [00:29<29:43:44,  8.41it/s]\n",
            "Training:   0% 224/900000 [00:29<30:07:15,  8.30it/s]\n",
            "Training:   0% 225/900000 [00:29<29:49:59,  8.38it/s]\n",
            "Training:   0% 226/900000 [00:29<29:11:46,  8.56it/s]\n",
            "Training:   0% 227/900000 [00:30<29:28:17,  8.48it/s]\n",
            "Training:   0% 229/900000 [00:30<25:34:03,  9.78it/s]\n",
            "Training:   0% 230/900000 [00:30<26:26:49,  9.45it/s]\n",
            "Training:   0% 232/900000 [00:30<24:59:02, 10.00it/s]\n",
            "Epoch 3: 100% 77/77 [00:08<00:00, 10.01it/s]\u001b[A\n",
            "Epoch 3: 100% 77/77 [00:08<00:00,  8.76it/s]\n",
            "Training:   0% 233/900000 [00:30<25:58:00,  9.63it/s]\n",
            "Epoch 4:   1% 1/77 [00:00<00:08,  8.56it/s]\u001b[ATraceback (most recent call last):\n",
            "  File \"/content/FastSpeechPPG/FastSpeech2/train.py\", line 296, in <module>\n",
            "    main(args, configs)\n",
            "  File \"/content/FastSpeechPPG/FastSpeech2/train.py\", line 139, in main\n",
            "    for batchs in loader:\n",
            "  File \"/usr/local/lib/python3.9/dist-packages/torch/utils/data/dataloader.py\", line 634, in __next__\n",
            "    data = self._next_data()\n",
            "  File \"/usr/local/lib/python3.9/dist-packages/torch/utils/data/dataloader.py\", line 678, in _next_data\n",
            "    data = self._dataset_fetcher.fetch(index)  # may raise StopIteration\n",
            "  File \"/usr/local/lib/python3.9/dist-packages/torch/utils/data/_utils/fetch.py\", line 51, in fetch\n",
            "    data = [self.dataset[idx] for idx in possibly_batched_index]\n",
            "  File \"/usr/local/lib/python3.9/dist-packages/torch/utils/data/_utils/fetch.py\", line 51, in <listcomp>\n",
            "    data = [self.dataset[idx] for idx in possibly_batched_index]\n",
            "  File \"/content/FastSpeechPPG/FastSpeech2/data_utils.py\", line 123, in __getitem__\n",
            "    return self.get_mel_PPG_pair(self.audiopaths_and_PPG[index])\n",
            "  File \"/content/FastSpeechPPG/FastSpeech2/data_utils.py\", line 63, in get_mel_PPG_pair\n",
            "    mel = self.get_mel(audiopath)\n",
            "  File \"/content/FastSpeechPPG/FastSpeech2/data_utils.py\", line 97, in get_mel\n",
            "    melspec = self.stft.mel_spectrogram(audio_norm)\n",
            "  File \"/content/FastSpeechPPG/FastSpeech2/layers.py\", line 76, in mel_spectrogram\n",
            "    magnitudes, phases = self.stft_fn.transform(y)\n",
            "  File \"/content/FastSpeechPPG/FastSpeech2/stft.py\", line 91, in transform\n",
            "    forward_transform = F.conv1d(\n",
            "KeyboardInterrupt\n",
            "Training:   0% 233/900000 [00:30<33:13:50,  7.52it/s]\n",
            "Epoch 4:   1% 1/77 [00:00<00:31,  2.44it/s]\n",
            "^C\n"
          ]
        }
      ]
    },
    {
      "cell_type": "markdown",
      "source": [
        "# 一些可能用得到的小工具"
      ],
      "metadata": {
        "id": "qkDFnZQXF2go"
      }
    },
    {
      "cell_type": "code",
      "source": [
        "# 处理训练集文本文件，改变前缀\n",
        "%cd /content/FastSpeechPPG/FastSpeech2/filelists\n",
        "\n",
        "# 改动这里即可\n",
        "openfile = \"phoneme_test_wav.tsv\"\n",
        "writefile = \"phoneme_test_flac.tsv\"\n",
        "\n",
        "with open(openfile, encoding='utf-8') as f:\n",
        "  filepaths_and_text = [line.strip().split('|') for line in f]\n",
        "\n",
        "print(filepaths_and_text[1])\n",
        "\n",
        "wf = open(writefile, \"a\")\n",
        "for j in filepaths_and_text:\n",
        "  suffix = j[0].strip().split('/')[6]\n",
        "  suffix = suffix.strip().split('.')[0]\n",
        "  wf.write(\"/content/LibriSpeech/train-clean-100/8629/261139/\" + suffix + '.flac|' + j[1] + '\\n')\n",
        "\n",
        "wf.close()"
      ],
      "metadata": {
        "colab": {
          "base_uri": "https://localhost:8080/"
        },
        "id": "UEHvpG9P_Rq1",
        "outputId": "628e47f0-b420-4816-8ebc-0abf4d063265"
      },
      "execution_count": null,
      "outputs": [
        {
          "output_type": "stream",
          "name": "stdout",
          "text": [
            "/content/FastSpeechPPG/FastSpeech2/filelists\n",
            "['/content/LibriSpeech/train-clean-100/8629/261139/8629-261139-0001.wav', '$ $ $ $ $ $ $ $ $ $ $ $ $ $ $ $ $ $ $ $ $ $ $ $ $ $ $ $ $ $ $ $ $ $ $ $ $ $ $ $ $ $ $ $ $ $ $ $ $ $ $ $ IH0 IH0 IH0 IH0 IH0 IH0 IH0 IH0 T T T T T T W W W W AH1 AH1 AH1 AH1 AH1 AH1 Z Z Z Z Z Z Z Z Z T T T T T T AH0 AH0 AH0 AH0 AH0 F F F F F F F F F F F AY1 AY1 AY1 AY1 AY1 AY1 AY1 AY1 AY1 AY1 AY1 AY1 AY1 AY1 AY1 AY1 AY1 N N N N D D D D IH0 IH0 IH0 IH0 IH0 IH0 N N N N N N N N T T T T T T T T T T T T T T UW1 UW1 UW1 UW1 UW1 UW1 UW1 UW1 UW1 UW1 UW1 UW1 UW1 F F F F F F F F F F F EY1 EY1 EY1 EY1 EY1 EY1 EY1 EY1 EY1 EY1 EY1 EY1 EY1 S S S S S S S S S S S S S S S IH0 IH0 IH0 IH0 IH0 IH0 IH0 IH0 Z Z Z Z Z Z Z Z Z Z Z Z $ $ $ $ $ $ OW1 OW1 OW1 OW1 OW1 OW1 OW1 OW1 OW1 OW1 OW1 OW1 OW1 OW1 OW1 OW1 N N N N N N N L L L L L IY0 IY0 IY0 IY0 IY0 IY0 IY0 IY0 IY0 IY0 EH1 EH1 EH1 EH1 EH1 EH1 EH1 EH1 EH1 EH1 EH1 EH1 EH1 EH1 N N N N N N IY0 IY0 IY0 IY0 IY0 IY0 IY0 IY0 IY0 IY0 S S S S S S S S S S S S S S S AY1 AY1 AY1 AY1 AY1 AY1 AY1 AY1 AY1 AY1 AY1 AY1 N N N N N N Z Z Z Z Z Z Z AH0 AH0 AH0 AH0 V V V V V V DH DH IY0 IY0 IY0 IY0 IY0 IY1 IY1 IY1 IY1 IY1 IY1 IY1 IY1 IY1 IY1 IY1 IY1 IY1 IY1 IY1 IY1 IY1 IY1 IY1 IY1 G G G G G G G G G ER0 ER0 ER0 ER0 N N N N N N N N N AH0 AH0 AH0 AH0 AH0 AH0 AH0 S S S S S S S S S S AH0 AH0 AH0 AH0 N D D D IH0 IH0 IH0 K K K K K K K S S S S S S S S S S S S P P P P P P P P P EH1 EH1 EH1 EH1 EH1 EH1 EH1 EH1 K K K K K K K K K T T T T AH0 AH0 AH0 AH0 N N N N N N S S S S S S S S S S IY0 IY0 IY0 IY0 IY0 IY0 W W W W W W W W W IH1 IH1 IH1 IH1 CH CH CH CH CH CH CH CH CH CH F F F F F F F F F F F F IH1 IH1 IH1 IH1 L L L L L L L L D D D HH IH0 IH0 IH0 IH0 IH0 Z Z Z Z Z Z Z Z Z OW1 OW1 OW1 OW1 OW1 OW1 OW1 OW1 OW1 OW1 OW1 OW1 OW1 OW1 OW1 OW1 OW1 OW1 OW1 N N N N N N N N B B B B B B B B R R R EH1 EH1 EH1 EH1 EH1 EH1 EH1 S S S S S S S S T T T T T T AH0 AH0 AH0 AH0 S S S S S S S S S S S S AH2 AH2 AH2 AH2 AH2 AH2 F F F F F F F F F AH0 AH0 AH0 K K K K K K K K K K EY1 EY1 EY1 EY1 EY1 EY1 EY1 EY1 EY1 EY1 SH SH SH SH SH SH SH SH SH SH SH SH SH SH AH0 AH0 AH0 AH0 AH0 N N N N N N N N N N $ $ $ $ $ $ $ $ $ $ $ $ $ $ $ $ $ $ $ $ $ $ $ $ $ $ $ $ $ $ $ $ $ $ $ $ $ $ $ $ $ $ $ $ $ $ $ $ $ $ $ $ $ $ $ $ $ $ $ $ $ $ $ $ $ $ $ $ $ $ $ $ $ $ $ $ $ $ $ $ $ $ $ $ $ $ $ $ $ $ $ $ B B B B B B AH1 AH1 AH1 AH1 AH1 T T T T AE1 AE1 AE1 AE1 AE1 AE1 AE1 AE1 AE1 AE1 AE1 AE1 AE1 AE1 AE1 AE1 AE1 AE1 AE1 AE1 AE1 AE1 AE1 Z Z Z Z Z Z Z Z Z Z DH DH IY1 IY1 IY1 IY1 IY1 IY1 IY1 IY1 Z Z Z Z Z Z Z F F F F F F F F F F EY1 EY1 EY1 EY1 EY1 EY1 EY1 EY1 EY1 EY1 EY1 EY1 EY1 S S S S S S S S S S S S S IH0 IH0 IH0 IH0 IH0 Z Z Z Z Z Z Z Z W W W W W W ER0 ER0 ER0 ER0 ER0 ER0 ER0 ER0 ER0 DH DH DH DH DH DH DH DH DH OW1 OW1 OW1 OW1 OW1 OW1 OW1 OW1 OW1 OW1 OW1 OW1 OW1 Z Z Z Z Z Z Z Z Z Z Z AH0 AH0 AH0 AH0 V V V V V V V V V V V $ $ $ $ $ $ $ AE1 AE1 AE1 AE1 AE1 AE1 AE1 AE1 AE1 AE1 AE1 AE1 AE1 AE1 AE1 AE1 AE1 AE1 G G G G G G G G G N N N IH0 IH0 IH0 IH0 IH0 IH0 IH0 S S S S S S S S S S S S HH AE1 AE1 AE1 AE1 AE1 AE1 AE1 AE1 AE1 AE1 AE1 AE1 AE1 AE1 AE1 AE1 L L L L L L L L L L L L IH0 IH0 IH0 IH0 D D D D D D D D EY2 EY2 EY2 EY2 EY2 EY2 EY2 EY2 EY2 EY2 EY2 EY2 EY2 EY2 EY2 EY2 EY2 EY2 EY2 EY2 EY2 $ $ $ $ $ $ $ $ $ $ $ $ $ $ $ $ $ $ $ $ $ $ $ $ AE1 AE1 AE1 AE1 AE1 AE1 AE1 AE1 N N N N D D D $ $ $ AE1 AE1 AE1 AE1 AE1 AE1 AE1 AE1 AE1 AE1 AE1 AE1 AE1 AE1 AE1 AE1 AE1 M M M M M M M M AH0 AH0 AH0 AH0 AH0 AH0 B B B B B B B EH2 EH2 EH2 EH2 EH2 EH2 L L L L L P P P P P P P P P P P P P P EY1 EY1 EY1 EY1 EY1 EY1 EY1 EY1 EY1 EY1 EY1 EY1 EY1 EY1 EY1 EY1 EY1 EY1 EY1 EY1 JH JH JH JH JH JH JH JH JH JH JH JH JH JH JH JH JH JH JH JH JH JH JH JH JH $ $ $ $ $ $ $ $ $ $ $ $ $ $ $ $ $ $ $ $ $']\n"
          ]
        }
      ]
    },
    {
      "cell_type": "code",
      "source": [
        "#@title wav文件生成的采样率不对，删掉\n",
        "import glob\n",
        "import os\n",
        "f = glob.glob(r'/content/LibriSpeech/train-clean-100/8629/261139/*.wav')\n",
        "for file in f:\n",
        "  os.remove(file)"
      ],
      "metadata": {
        "id": "5jugWwQCF4lk"
      },
      "execution_count": null,
      "outputs": []
    },
    {
      "cell_type": "code",
      "source": [
        "#@获取音频时长\n",
        "import librosa\n",
        "librosa.get_duration(filename='/content/LibriSpeech/train-clean-100/8629/261139/8629-261139-0019.wav')"
      ],
      "metadata": {
        "colab": {
          "base_uri": "https://localhost:8080/"
        },
        "id": "7Og3oovzW3Vv",
        "outputId": "d9b4b3ab-4fbe-4537-c7e0-ee2db3c6c36f"
      },
      "execution_count": null,
      "outputs": [
        {
          "output_type": "execute_result",
          "data": {
            "text/plain": [
              "15.6210625"
            ]
          },
          "metadata": {},
          "execution_count": 21
        }
      ]
    },
    {
      "cell_type": "code",
      "source": [
        "import torch\n",
        "a=torch.arange(20).reshape(4,5)\n",
        "print(a)\n",
        "print(a.shape)\n",
        "\n",
        "a=a[0:3]\n",
        "print(a)\n",
        "print(a.shape)"
      ],
      "metadata": {
        "colab": {
          "base_uri": "https://localhost:8080/"
        },
        "id": "ok9lx3LJ5weJ",
        "outputId": "c9647e17-96bf-4245-9c39-7faa21a47eff"
      },
      "execution_count": 19,
      "outputs": [
        {
          "output_type": "stream",
          "name": "stdout",
          "text": [
            "tensor([[ 0,  1,  2,  3,  4],\n",
            "        [ 5,  6,  7,  8,  9],\n",
            "        [10, 11, 12, 13, 14],\n",
            "        [15, 16, 17, 18, 19]])\n",
            "torch.Size([4, 5])\n",
            "tensor([[ 0,  1,  2,  3,  4],\n",
            "        [ 5,  6,  7,  8,  9],\n",
            "        [10, 11, 12, 13, 14]])\n",
            "torch.Size([3, 5])\n"
          ]
        }
      ]
    }
  ],
  "metadata": {
    "accelerator": "GPU",
    "colab": {
      "collapsed_sections": [
        "04WRc1FTPBcf"
      ],
      "provenance": []
    },
    "gpuClass": "standard",
    "kernelspec": {
      "display_name": "Python 3",
      "name": "python3"
    },
    "language_info": {
      "name": "python"
    }
  },
  "nbformat": 4,
  "nbformat_minor": 0
}
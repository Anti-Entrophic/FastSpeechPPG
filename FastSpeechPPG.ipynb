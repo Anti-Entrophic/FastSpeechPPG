{
  "cells": [
    {
      "cell_type": "code",
      "execution_count": null,
      "metadata": {
        "id": "qOKa8st_ALDx"
      },
      "outputs": [],
      "source": [
        "#@title 安装依赖\n",
        "!git clone https://github.com/Anti-Entrophic/FastSpeechPPG.git\n",
        "%cd /content/FastSpeechPPG/FastSpeech2"
      ]
    },
    {
      "cell_type": "code",
      "source": [
        "!pip install g2p_en\n",
        "!pip install inflect\n",
        "!pip install librosa==0.9.2 # 0.10.0 与dataloader不兼容\n",
        "!pip install matplotlib\n",
        "!pip install numba\n",
        "!pip install numpy"
      ],
      "metadata": {
        "id": "C13oroX9pYpI"
      },
      "execution_count": null,
      "outputs": []
    },
    {
      "cell_type": "code",
      "source": [
        "!pip install pypinyin\n",
        "!pip install pyworld\n",
        "!pip install PyYAML\n",
        "!pip install scikit-learn\n",
        "!pip install scipy"
      ],
      "metadata": {
        "id": "Wu-zoI1UpZbu"
      },
      "execution_count": null,
      "outputs": []
    },
    {
      "cell_type": "code",
      "source": [
        "!pip install soundfile==0.10.3.post1\n",
        "!pip install tensorboard\n",
        "!pip install tgt\n",
        "!pip install torch\n",
        "!pip install tqdm\n",
        "!pip install unidecode\n",
        "!pip install --upgrade --no-cache-dir gdown"
      ],
      "metadata": {
        "id": "K_lRdoPlp45O"
      },
      "execution_count": null,
      "outputs": []
    },
    {
      "cell_type": "markdown",
      "metadata": {
        "id": "04WRc1FTPBcf"
      },
      "source": [
        "# Infer"
      ]
    },
    {
      "cell_type": "code",
      "execution_count": null,
      "metadata": {
        "colab": {
          "base_uri": "https://localhost:8080/"
        },
        "id": "yhuVKFA8NDAT",
        "outputId": "ee7ed11b-3012-4925-8c07-e07451cb7575"
      },
      "outputs": [
        {
          "name": "stdout",
          "output_type": "stream",
          "text": [
            "Access denied with the following error:\n",
            "\n",
            " \tCannot retrieve the public link of the file. You may need to change\n",
            "\tthe permission to 'Anyone with the link', or have had many accesses. \n",
            "\n",
            "You may still be able to access the file from the browser:\n",
            "\n",
            "\t https://drive.google.com/uc?id=1DBRkALpPd6FL9gjHMmMEdHODmkgNIIK4 \n",
            "\n"
          ]
        }
      ],
      "source": [
        "#貌似不行\n",
        "!gdown \"https://drive.google.com/uc?id=1DBRkALpPd6FL9gjHMmMEdHODmkgNIIK4\""
      ]
    },
    {
      "cell_type": "code",
      "execution_count": null,
      "metadata": {
        "colab": {
          "base_uri": "https://localhost:8080/"
        },
        "id": "poQqEedhAIpQ",
        "outputId": "6cef7969-cbf2-4133-9752-acf2e30f23f4"
      },
      "outputs": [
        {
          "name": "stdout",
          "output_type": "stream",
          "text": [
            "Traceback (most recent call last):\n",
            "  File \"/content/FastSpeech2/synthesize.py\", line 188, in <module>\n",
            "    model = get_model(args, configs, device, train=False)\n",
            "  File \"/content/FastSpeech2/utils/model.py\", line 20, in get_model\n",
            "    ckpt = torch.load(ckpt_path)\n",
            "  File \"/usr/local/lib/python3.9/dist-packages/torch/serialization.py\", line 771, in load\n",
            "    with _open_file_like(f, 'rb') as opened_file:\n",
            "  File \"/usr/local/lib/python3.9/dist-packages/torch/serialization.py\", line 270, in _open_file_like\n",
            "    return _open_file(name_or_buffer, mode)\n",
            "  File \"/usr/local/lib/python3.9/dist-packages/torch/serialization.py\", line 251, in __init__\n",
            "    super(_open_file, self).__init__(open(name, mode))\n",
            "FileNotFoundError: [Errno 2] No such file or directory: './output/ckpt/AISHELL3/600000.pth.tar'\n"
          ]
        }
      ],
      "source": [
        "!python3 synthesize.py --text \"大家好\" --speaker_id 1 --restore_step 600000 --mode single -p config/AISHELL3/preprocess.yaml -m config/AISHELL3/model.yaml -t config/AISHELL3/train.yaml"
      ]
    },
    {
      "cell_type": "markdown",
      "metadata": {
        "id": "7ev_-SYBOg1t"
      },
      "source": [
        "# Train(原版)"
      ]
    },
    {
      "cell_type": "markdown",
      "metadata": {
        "id": "v-uvZAt6Pu0M"
      },
      "source": [
        "## 准备数据"
      ]
    },
    {
      "cell_type": "code",
      "execution_count": null,
      "metadata": {
        "colab": {
          "background_save": true
        },
        "id": "u9z5om2KQA24",
        "outputId": "0e3f2974-4e4a-400b-dcaa-eebf51cf5e87"
      },
      "outputs": [
        {
          "name": "stdout",
          "output_type": "stream",
          "text": [
            "Looking in indexes: https://pypi.org/simple, https://us-python.pkg.dev/colab-wheels/public/simple/\n",
            "Collecting wget\n",
            "  Downloading wget-3.2.zip (10 kB)\n",
            "  Preparing metadata (setup.py) ... \u001b[?25l\u001b[?25hdone\n",
            "Building wheels for collected packages: wget\n",
            "  Building wheel for wget (setup.py) ... \u001b[?25l\u001b[?25hdone\n",
            "  Created wheel for wget: filename=wget-3.2-py3-none-any.whl size=9676 sha256=bfb823a1a3b5092d0355256a771bdd4daf363f5b22ab19ac0eb09ac3080dee0b\n",
            "  Stored in directory: /root/.cache/pip/wheels/04/5f/3e/46cc37c5d698415694d83f607f833f83f0149e49b3af9d0f38\n",
            "Successfully built wget\n",
            "Installing collected packages: wget\n",
            "Successfully installed wget-3.2\n",
            "Looking in indexes: https://pypi.org/simple, https://us-python.pkg.dev/colab-wheels/public/simple/\n",
            "\u001b[31mERROR: Could not find a version that satisfies the requirement tarfile (from versions: none)\u001b[0m\u001b[31m\n",
            "\u001b[0m\u001b[31mERROR: No matching distribution found for tarfile\u001b[0m\u001b[31m\n",
            "\u001b[0m"
          ]
        }
      ],
      "source": [
        "!pip install wget\n",
        "!pip install tarfile"
      ]
    },
    {
      "cell_type": "code",
      "execution_count": null,
      "metadata": {
        "colab": {
          "background_save": true
        },
        "id": "uqUELCosPK0K",
        "outputId": "e449e8cf-adb6-4154-c01a-9ac7b6bf6060"
      },
      "outputs": [
        {
          "name": "stdout",
          "output_type": "stream",
          "text": [
            "/content\n",
            "--2023-03-17 15:40:47--  http://data.keithito.com/data/speech/LJSpeech-1.1.tar.bz2\n",
            "Resolving data.keithito.com (data.keithito.com)... 174.138.79.61\n",
            "Connecting to data.keithito.com (data.keithito.com)|174.138.79.61|:80... connected.\n",
            "HTTP request sent, awaiting response... 200 OK\n",
            "Length: 2748572632 (2.6G) [application/octet-stream]\n",
            "Saving to: ‘data.keithito.com/data/speech/LJSpeech-1.1.tar.bz2’\n",
            "\n",
            "data.keithito.com/d 100%[===================>]   2.56G  12.1MB/s    in 3m 23s  \n",
            "\n",
            "2023-03-17 15:44:11 (12.9 MB/s) - ‘data.keithito.com/data/speech/LJSpeech-1.1.tar.bz2’ saved [2748572632/2748572632]\n",
            "\n",
            "FINISHED --2023-03-17 15:44:11--\n",
            "Total wall clock time: 3m 24s\n",
            "Downloaded: 1 files, 2.6G in 3m 23s (12.9 MB/s)\n"
          ]
        }
      ],
      "source": [
        "#@title 下载 LJspeech\n",
        "# 3min\n",
        "%cd /content\n",
        "!wget --no-check-certificate -r http://data.keithito.com/data/speech/LJSpeech-1.1.tar.bz2"
      ]
    },
    {
      "cell_type": "code",
      "execution_count": null,
      "metadata": {
        "id": "o1edOjhmPzAs"
      },
      "outputs": [],
      "source": [
        "#@title 解压\n",
        "# 10min\n",
        "%cd /content/data.keithito.com/data/speech/\n",
        "import tarfile\n",
        "filename = \"LJSpeech-1.1.tar.bz2\"\n",
        "tf = tarfile.open(filename)\n",
        "tf.extractall('/content')"
      ]
    },
    {
      "cell_type": "markdown",
      "metadata": {
        "id": "VWxhLL3sP7v_"
      },
      "source": [
        "## 训练"
      ]
    },
    {
      "cell_type": "code",
      "execution_count": null,
      "metadata": {
        "colab": {
          "base_uri": "https://localhost:8080/"
        },
        "id": "gqPnY2pfRU6Z",
        "outputId": "ca87a4bd-5519-4a31-eb4e-126c7df1cc5d"
      },
      "outputs": [
        {
          "name": "stdout",
          "output_type": "stream",
          "text": [
            "/content\n"
          ]
        }
      ],
      "source": [
        "#@title 测试日志模块（不用再跑了）\n",
        "%cd /content\n",
        "import logging\n",
        "logging.basicConfig(level=logging.DEBUG #设置日志输出格式\n",
        "      ,filename=\"/content/experiment.log\" #log日志输出的文件位置和文件名\n",
        "      ,format=\"%(asctime)s-%(levelname)s: %(message)s\" #日志输出的格式\n",
        "                      # -8表示占位符，让输出左对齐，输出长度都为8位\n",
        "      ,datefmt=\"%Y-%m-%d %H:%M:%S\"  #时间输出的格式\n",
        "      ,force=True)\n",
        "# test\n",
        "logging.debug(\"debug!\")\n",
        "\n",
        "# 这样用就可以了\n",
        "from debugging import logging_init\n",
        "import logging"
      ]
    },
    {
      "cell_type": "code",
      "execution_count": null,
      "metadata": {
        "colab": {
          "base_uri": "https://localhost:8080/"
        },
        "id": "ec5FM08kOj18",
        "outputId": "8cebbfa6-c8df-4d1f-8de6-0d3c7564c4e1"
      },
      "outputs": [
        {
          "name": "stdout",
          "output_type": "stream",
          "text": [
            "/content/FastSpeechPPG/FastSpeech2\n",
            "13100it [03:33, 61.28it/s]\n"
          ]
        }
      ],
      "source": [
        "#@title 预处理，好像是去除文字的大小写和特殊符号。还有对音频处理了一下，看不懂。\n",
        "# 4min\n",
        "%cd /content/FastSpeechPPG/FastSpeech2\n",
        "!python3 prepare_align.py config/LJSpeech/preprocess.yaml"
      ]
    },
    {
      "cell_type": "markdown",
      "metadata": {
        "id": "IR8gWtNMbA-p"
      },
      "source": [
        "上传 `LJSpeech.zip` 到路径 `FastSpeech2/preprocessed_data/LJSpeech/TextGrid/` 下，并解压"
      ]
    },
    {
      "cell_type": "code",
      "execution_count": null,
      "metadata": {
        "colab": {
          "base_uri": "https://localhost:8080/"
        },
        "id": "u61DgBhkbQ60",
        "outputId": "53cf8878-e945-401f-ddcd-1a9a544f6246"
      },
      "outputs": [
        {
          "name": "stdout",
          "output_type": "stream",
          "text": [
            "False\n",
            "/content/FastSpeechPPG/FastSpeech2/preprocessed_data/LJSpeech\n"
          ]
        }
      ],
      "source": [
        "# 解压\n",
        "%cd /content/FastSpeechPPG/FastSpeech2/preprocessed_data/LJSpeech\n",
        "import zipfile\n",
        "import os\n",
        "assert os.path.exists('./LJSpeech.zip')\n",
        "zip_file = zipfile.ZipFile('./LJSpeech.zip')\n",
        "zip_file.extractall()"
      ]
    },
    {
      "cell_type": "code",
      "execution_count": null,
      "metadata": {
        "colab": {
          "base_uri": "https://localhost:8080/"
        },
        "id": "4BQyszJARpbZ",
        "outputId": "c7b324c7-36f6-4e15-c59a-5bac85fc8b70"
      },
      "outputs": [
        {
          "output_type": "stream",
          "name": "stdout",
          "text": [
            "/content/FastSpeechPPG/FastSpeech2\n",
            "/content/FastSpeechPPG/FastSpeech2/audio/stft.py:42: FutureWarning: Pass size=1024 as keyword args. From version 0.10 passing these as positional arguments will result in an error\n",
            "  fft_window = pad_center(fft_window, filter_length)\n",
            "/content/FastSpeechPPG/FastSpeech2/audio/stft.py:145: FutureWarning: Pass sr=22050, n_fft=1024, n_mels=80, fmin=0, fmax=8000 as keyword args. From version 0.10 passing these as positional arguments will result in an error\n",
            "  mel_basis = librosa_mel_fn(\n",
            "Processing Data ...\n",
            "Traceback (most recent call last):\n",
            "  File \"/content/FastSpeechPPG/FastSpeech2/preprocess.py\", line 15, in <module>\n",
            "    preprocessor.build_from_path()\n",
            "  File \"/content/FastSpeechPPG/FastSpeech2/preprocessor/preprocessor.py\", line 67, in build_from_path\n",
            "    for i, speaker in enumerate(tqdm(os.listdir(self.in_dir))):\n",
            "FileNotFoundError: [Errno 2] No such file or directory: './raw_data/LJSpeech'\n"
          ]
        }
      ],
      "source": [
        "%cd /content/FastSpeechPPG/FastSpeech2\n",
        "!python3 preprocess.py config/LJSpeech/preprocess.yaml"
      ]
    },
    {
      "cell_type": "markdown",
      "source": [
        "# Train（我们用这个）"
      ],
      "metadata": {
        "id": "SsNPqHMi2ttb"
      }
    },
    {
      "cell_type": "code",
      "source": [
        "#@title 下载 librispeech\n",
        "%cd /content\n",
        "!wget --no-check-certificate -r https://us.openslr.org/resources/12/train-clean-100.tar.gz"
      ],
      "metadata": {
        "colab": {
          "base_uri": "https://localhost:8080/"
        },
        "id": "PPCfg-mP24Lm",
        "outputId": "1a077bc5-baf7-4008-a078-77a060e3069b"
      },
      "execution_count": 4,
      "outputs": [
        {
          "output_type": "stream",
          "name": "stdout",
          "text": [
            "/content\n",
            "--2023-03-23 08:50:48--  https://us.openslr.org/resources/12/train-clean-100.tar.gz\n",
            "Resolving us.openslr.org (us.openslr.org)... 46.101.158.64\n",
            "Connecting to us.openslr.org (us.openslr.org)|46.101.158.64|:443... connected.\n",
            "HTTP request sent, awaiting response... 200 OK\n",
            "Length: 6387309499 (5.9G) [application/x-gzip]\n",
            "Saving to: ‘us.openslr.org/resources/12/train-clean-100.tar.gz’\n",
            "\n",
            "us.openslr.org/reso 100%[===================>]   5.95G  38.2MB/s    in 1m 50s  \n",
            "\n",
            "2023-03-23 08:52:38 (55.5 MB/s) - ‘us.openslr.org/resources/12/train-clean-100.tar.gz’ saved [6387309499/6387309499]\n",
            "\n",
            "FINISHED --2023-03-23 08:52:38--\n",
            "Total wall clock time: 1m 50s\n",
            "Downloaded: 1 files, 5.9G in 1m 50s (55.5 MB/s)\n"
          ]
        }
      ]
    },
    {
      "cell_type": "code",
      "source": [
        "#@title 解压 librispeech\n",
        "%cd /content/us.openslr.org/resources/12\n",
        "import tarfile\n",
        "filename = \"train-clean-100.tar.gz\"\n",
        "tf = tarfile.open(filename)\n",
        "tf.extractall('/content')"
      ],
      "metadata": {
        "colab": {
          "base_uri": "https://localhost:8080/"
        },
        "id": "PG89sUuW26gF",
        "outputId": "f1ba137c-25ad-4174-8bf6-9d5453ed11c8"
      },
      "execution_count": 5,
      "outputs": [
        {
          "output_type": "stream",
          "name": "stdout",
          "text": [
            "/content/us.openslr.org/resources/12\n"
          ]
        }
      ]
    },
    {
      "cell_type": "code",
      "source": [
        "!pip install ffmpeg\n",
        "!pip install soundfile\n",
        "import librosa\n",
        "import soundfile\n",
        "import glob\n",
        "import os\n",
        "\n",
        "src = os.path.join('/content/LibriSpeech/train-clean-100/8629/261139/', '*.flac')\n",
        "dst = os.path.join('/content/LibriSpeech/train-clean-100/8629/261139/', '*.wav')\n",
        "filelist = glob.glob(r'/content/LibriSpeech/train-clean-100/8629/261139/*.flac')\n",
        "for file in filelist:\n",
        "  src = os.path.join('/content/LibriSpeech/train-clean-100/8629/261139/', file)\n",
        "  y,sr = librosa.load(src)\n",
        "  name = os.path.splitext(file)[0] + '.wav'\n",
        "  dst = os.path.join('/content/LibriSpeech/train-clean-100/8629/261139/', name)\n",
        "  soundfile.write(dst,y,sr)"
      ],
      "metadata": {
        "colab": {
          "base_uri": "https://localhost:8080/"
        },
        "id": "hSnzuhPmFnj9",
        "outputId": "3d938398-ef78-4159-9ab1-57d4e07f7bae"
      },
      "execution_count": 6,
      "outputs": [
        {
          "output_type": "stream",
          "name": "stdout",
          "text": [
            "Looking in indexes: https://pypi.org/simple, https://us-python.pkg.dev/colab-wheels/public/simple/\n",
            "Collecting ffmpeg\n",
            "  Downloading ffmpeg-1.4.tar.gz (5.1 kB)\n",
            "  Preparing metadata (setup.py) ... \u001b[?25l\u001b[?25hdone\n",
            "Building wheels for collected packages: ffmpeg\n",
            "  Building wheel for ffmpeg (setup.py) ... \u001b[?25l\u001b[?25hdone\n",
            "  Created wheel for ffmpeg: filename=ffmpeg-1.4-py3-none-any.whl size=6083 sha256=63fc212007d1731012d69d78e7edf41d21eaaef2a12eafdae67d1649ba925e30\n",
            "  Stored in directory: /root/.cache/pip/wheels/1d/57/24/4eff6a03a9ea0e647568e8a5a0546cdf957e3cf005372c0245\n",
            "Successfully built ffmpeg\n",
            "Installing collected packages: ffmpeg\n",
            "Successfully installed ffmpeg-1.4\n",
            "Looking in indexes: https://pypi.org/simple, https://us-python.pkg.dev/colab-wheels/public/simple/\n",
            "Requirement already satisfied: soundfile in /usr/local/lib/python3.9/dist-packages (0.10.3.post1)\n",
            "Requirement already satisfied: cffi>=1.0 in /usr/local/lib/python3.9/dist-packages (from soundfile) (1.15.1)\n",
            "Requirement already satisfied: pycparser in /usr/local/lib/python3.9/dist-packages (from cffi>=1.0->soundfile) (2.21)\n"
          ]
        }
      ]
    },
    {
      "cell_type": "code",
      "source": [
        "#@title Train\n",
        "%cd /content/FastSpeechPPG/FastSpeech2\n",
        "!python3 train.py -p config/LJSpeech/preprocess.yaml -m config/LJSpeech/model.yaml -t config/LJSpeech/train.yaml"
      ],
      "metadata": {
        "colab": {
          "base_uri": "https://localhost:8080/"
        },
        "id": "CVGDKiw2--DY",
        "outputId": "56580cae-042b-4d92-8b0a-9ea8ffe33c4b"
      },
      "execution_count": 18,
      "outputs": [
        {
          "output_type": "stream",
          "name": "stdout",
          "text": [
            "/content/FastSpeechPPG/FastSpeech2\n",
            "Prepare training ...\n",
            "/content/FastSpeechPPG/FastSpeech2/stft.py:67: FutureWarning: Pass size=1024 as keyword args. From version 0.10 passing these as positional arguments will result in an error\n",
            "  fft_window = pad_center(fft_window, filter_length)\n",
            "/content/FastSpeechPPG/FastSpeech2/layers.py:50: FutureWarning: Pass sr=22050, n_fft=1024, n_mels=80, fmin=0.0, fmax=8000.0 as keyword args. From version 0.10 passing these as positional arguments will result in an error\n",
            "  mel_basis = librosa_mel_fn(\n",
            "Number of FastSpeech2 Parameters: 22197113\n",
            "Removing weight norm...\n",
            "2023-03-23 10:42:48.384125: I tensorflow/core/platform/cpu_feature_guard.cc:193] This TensorFlow binary is optimized with oneAPI Deep Neural Network Library (oneDNN) to use the following CPU instructions in performance-critical operations:  AVX2 AVX512F FMA\n",
            "To enable them in other operations, rebuild TensorFlow with the appropriate compiler flags.\n",
            "2023-03-23 10:42:49.326690: W tensorflow/compiler/xla/stream_executor/platform/default/dso_loader.cc:64] Could not load dynamic library 'libnvinfer.so.7'; dlerror: libnvinfer.so.7: cannot open shared object file: No such file or directory; LD_LIBRARY_PATH: /usr/lib64-nvidia\n",
            "2023-03-23 10:42:49.326838: W tensorflow/compiler/xla/stream_executor/platform/default/dso_loader.cc:64] Could not load dynamic library 'libnvinfer_plugin.so.7'; dlerror: libnvinfer_plugin.so.7: cannot open shared object file: No such file or directory; LD_LIBRARY_PATH: /usr/lib64-nvidia\n",
            "2023-03-23 10:42:49.326861: W tensorflow/compiler/tf2tensorrt/utils/py_utils.cc:38] TF-TRT Warning: Cannot dlopen some TensorRT libraries. If you would like to use Nvidia GPU with TensorRT, please make sure the missing libraries mentioned above are installed properly.\n",
            "Training:   0% 0/900000 [00:00<?, ?it/s]\n",
            "Epoch 1:   0% 0/2 [00:00<?, ?it/s]\u001b[ATraceback (most recent call last):\n",
            "  File \"/content/FastSpeechPPG/FastSpeech2/train.py\", line 293, in <module>\n",
            "    main(args, configs)\n",
            "  File \"/content/FastSpeechPPG/FastSpeech2/train.py\", line 147, in main\n",
            "    assert 0 \n",
            "AssertionError\n",
            "Training:   0% 1/900000 [00:02<675:18:53,  2.70s/it]\n",
            "Epoch 1:   0% 0/2 [00:02<?, ?it/s]\n"
          ]
        }
      ]
    },
    {
      "cell_type": "code",
      "source": [
        "\n",
        "temp = [[0, 0, 0,  ..., 1, 0, 0],\n",
        "      [0, 0, 0,  ..., 1, 0, 0],\n",
        "      [0, 0, 0,  ..., 1, 0, 0],\n",
        "      [0, 0, 0,  ..., 1, 0, 0],\n",
        "      [0, 0, 0,  ..., 1, 0, 0],\n",
        "      [0, 0, 0,  ..., 1, 0, 0]]\n",
        "print(temp.size())"
      ],
      "metadata": {
        "colab": {
          "base_uri": "https://localhost:8080/",
          "height": 204
        },
        "id": "RWrkV2qzAm5z",
        "outputId": "dbddea69-f32e-47ae-808a-003f7c113fe4"
      },
      "execution_count": 17,
      "outputs": [
        {
          "output_type": "error",
          "ename": "AttributeError",
          "evalue": "ignored",
          "traceback": [
            "\u001b[0;31m---------------------------------------------------------------------------\u001b[0m",
            "\u001b[0;31mAttributeError\u001b[0m                            Traceback (most recent call last)",
            "\u001b[0;32m<ipython-input-17-b54965ab4355>\u001b[0m in \u001b[0;36m<module>\u001b[0;34m\u001b[0m\n\u001b[1;32m      5\u001b[0m       \u001b[0;34m[\u001b[0m\u001b[0;36m0\u001b[0m\u001b[0;34m,\u001b[0m \u001b[0;36m0\u001b[0m\u001b[0;34m,\u001b[0m \u001b[0;36m0\u001b[0m\u001b[0;34m,\u001b[0m  \u001b[0;34m...\u001b[0m\u001b[0;34m,\u001b[0m \u001b[0;36m1\u001b[0m\u001b[0;34m,\u001b[0m \u001b[0;36m0\u001b[0m\u001b[0;34m,\u001b[0m \u001b[0;36m0\u001b[0m\u001b[0;34m]\u001b[0m\u001b[0;34m,\u001b[0m\u001b[0;34m\u001b[0m\u001b[0;34m\u001b[0m\u001b[0m\n\u001b[1;32m      6\u001b[0m       [0, 0, 0,  ..., 1, 0, 0]]\n\u001b[0;32m----> 7\u001b[0;31m \u001b[0mprint\u001b[0m\u001b[0;34m(\u001b[0m\u001b[0mtemp\u001b[0m\u001b[0;34m.\u001b[0m\u001b[0msize\u001b[0m\u001b[0;34m(\u001b[0m\u001b[0;34m)\u001b[0m\u001b[0;34m)\u001b[0m\u001b[0;34m\u001b[0m\u001b[0;34m\u001b[0m\u001b[0m\n\u001b[0m",
            "\u001b[0;31mAttributeError\u001b[0m: 'list' object has no attribute 'size'"
          ]
        }
      ]
    }
  ],
  "metadata": {
    "accelerator": "GPU",
    "colab": {
      "collapsed_sections": [
        "04WRc1FTPBcf"
      ],
      "provenance": []
    },
    "gpuClass": "standard",
    "kernelspec": {
      "display_name": "Python 3",
      "name": "python3"
    },
    "language_info": {
      "name": "python"
    }
  },
  "nbformat": 4,
  "nbformat_minor": 0
}